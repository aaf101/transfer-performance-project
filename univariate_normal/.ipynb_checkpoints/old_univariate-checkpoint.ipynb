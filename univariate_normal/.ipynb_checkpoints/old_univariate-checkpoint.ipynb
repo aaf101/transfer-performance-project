{
 "cells": [
  {
   "cell_type": "code",
   "execution_count": 100,
   "id": "35dbfba4-960f-429c-afea-bb54cc2fd867",
   "metadata": {},
   "outputs": [],
   "source": [
    "# import necessary packages\n",
    "import numpy as np\n",
    "import matplotlib.pyplot as plt\n",
    "import random\n",
    "import math\n",
    "import pandas as pd\n",
    "from sklearn.ensemble import RandomForestRegressor\n",
    "from sklearn.preprocessing import LabelEncoder\n",
    "import itertools\n",
    "import scipy.stats\n",
    "import time\n",
    "import statsmodels.api as sm\n",
    "import cvxopt\n",
    "from sklearn.linear_model import LassoCV\n",
    "from datetime import datetime\n",
    "\n",
    "# fix a random seed\n",
    "\n",
    "np.random.seed(1)"
   ]
  },
  {
   "cell_type": "markdown",
   "id": "30248fe4-8550-4540-a6c2-b9b5d1aa6596",
   "metadata": {},
   "source": [
    "# ED Framework but with Normal Linear Regression\n",
    "\n",
    "Take the following model, for a domain $d$ out of $n$ domains. For now, take $n = 10$ and $r=5$ (final numbers TBD)\n",
    "\n",
    "$y = \\beta_d x + \\sigma_d \\epsilon,$\n",
    "\n",
    "$(x,\\epsilon) \\sim N(0,\\mathbb{I}_2)$\n",
    "\n",
    "Each domain has unique parameters $\\beta$ and $\\sigma$. To get as much data as we wish, these are generated from true meta-distribution of\n",
    "\n",
    "$\\beta|\\sigma \\sim N(0,\\sigma^2)$\n",
    "\n",
    "$\\sigma^2 \\sim InvGamma(\\alpha,\\beta)$\n",
    "\n",
    "For now, we set $\\alpha = 3,  \\beta = 1$.\n",
    "\n",
    "Furthermore, each sample domain has $m = 100$ observations in it."
   ]
  },
  {
   "cell_type": "code",
   "execution_count": 101,
   "id": "2381cc81-1bdb-4687-b778-33c9b6538f37",
   "metadata": {},
   "outputs": [],
   "source": [
    "# set parameters\n",
    "n = 16\n",
    "r = 8\n",
    "alpha = 3\n",
    "beta = 1\n",
    "m = 100\n",
    "\n",
    "tau = 0.975\n"
   ]
  },
  {
   "cell_type": "code",
   "execution_count": 102,
   "id": "5f82b253-e413-494e-823d-24ce232bb38b",
   "metadata": {},
   "outputs": [],
   "source": [
    "### generate parameters and data\n",
    "\n",
    "# generate n values of sigma_d\n",
    "inverse_gamma_dist = scipy.stats.invgamma(alpha, scale=beta)\n",
    "sigmas = inverse_gamma_dist.rvs(size=n)\n",
    "\n",
    "# generate n values of beta\n",
    "betas = []\n",
    "for sigma_d in sigmas:\n",
    "    betas.append(np.random.normal(0,sigma_d))\n",
    "\n",
    "# generate n values of x\n",
    "xs = []\n",
    "for k in range(n):\n",
    "    xs.append(np.random.normal(0,1,m))\n",
    "\n",
    "# generate n values of epsilon\n",
    "epsilons = []\n",
    "for k in range(n):\n",
    "    epsilons.append(np.random.normal(0,1,m))\n",
    "\n",
    "# generate a corresponding Y_i for each theta_i\n",
    "# y_i = beta_d * x_i + sigma_d * epsilon_i\n",
    "y = []\n",
    "for k in range(n):\n",
    "    y.append(betas[k] * xs[k] + sigmas[k] * epsilons[k])\n",
    "\n",
    "# generate list of possible indices combinations\n",
    "all_indices = list(range(n))\n",
    "\n",
    "possible_combinations_temp = list(itertools.combinations(all_indices, r))\n",
    "\n",
    "possible_combinations = []\n",
    "\n",
    "for temp_index in range(len(possible_combinations_temp)):\n",
    "    possible_combinations_temp[temp_index] = list(possible_combinations_temp[temp_index])\n",
    "    for x in all_indices:\n",
    "        if x not in possible_combinations_temp[temp_index]:\n",
    "            possible_combinations.append(possible_combinations_temp[temp_index] + [x])"
   ]
  },
  {
   "cell_type": "code",
   "execution_count": 103,
   "id": "d23c36f1-169b-4d2a-8416-dbe5aab34b00",
   "metadata": {},
   "outputs": [
    {
     "data": {
      "image/png": "[encoded data removed]",
      "text/plain": [
       "<Figure size 640x480 with 1 Axes>"
      ]
     },
     "metadata": {},
     "output_type": "display_data"
    }
   ],
   "source": [
    "plt.hist(y[0])\n",
    "plt.show()"
   ]
  },
  {
   "cell_type": "code",
   "execution_count": 104,
   "id": "2e127606-795e-4098-ae33-3a1c72c3a36b",
   "metadata": {},
   "outputs": [
    {
     "name": "stdout",
     "output_type": "stream",
     "text": [
      "[[1]\n",
      " [2]\n",
      " [3]]\n"
     ]
    }
   ],
   "source": [
    "fafa = [1,2,3]\n",
    "\n",
    "print(np.transpose([fafa]))"
   ]
  },
  {
   "cell_type": "code",
   "execution_count": 105,
   "id": "52c24447-cfb4-4a25-8be4-52d8e3d32b0d",
   "metadata": {},
   "outputs": [
    {
     "name": "stdout",
     "output_type": "stream",
     "text": [
      "OLS running\n",
      "10 %\n",
      "20 %\n",
      "30 %\n",
      "40 %\n",
      "50 %\n",
      "60 %\n",
      "70 %\n",
      "80 %\n",
      "90 %\n",
      "100 %\n",
      "OLS runtime was:  0:02:00.903317\n",
      "lasso running\n",
      "10 %\n"
     ]
    },
    {
     "ename": "KeyboardInterrupt",
     "evalue": "",
     "output_type": "error",
     "traceback": [
      "\u001b[1;31m---------------------------------------------------------------------------\u001b[0m",
      "\u001b[1;31mKeyboardInterrupt\u001b[0m                         Traceback (most recent call last)",
      "Cell \u001b[1;32mIn[105], line 92\u001b[0m\n\u001b[0;32m     89\u001b[0m testing_sample_y\u001b[38;5;241m.\u001b[39mextend(y[testing_index])\n\u001b[0;32m     90\u001b[0m testing_sample_x \u001b[38;5;241m=\u001b[39m xs[testing_index]\n\u001b[1;32m---> 92\u001b[0m e_values_lasso\u001b[38;5;241m.\u001b[39mappend(\u001b[43mout_of_sample_error_function\u001b[49m\u001b[43m(\u001b[49m\u001b[43mtraining_samples_x\u001b[49m\u001b[43m,\u001b[49m\u001b[43mtraining_samples_y\u001b[49m\u001b[43m,\u001b[49m\u001b[43m \u001b[49m\u001b[43mtesting_sample_x\u001b[49m\u001b[43m,\u001b[49m\u001b[43mtesting_sample_y\u001b[49m\u001b[43m,\u001b[49m\u001b[43m \u001b[49m\u001b[43mpred_rule\u001b[49m\u001b[43m)\u001b[49m)\n\u001b[0;32m     93\u001b[0m current \u001b[38;5;241m=\u001b[39m \u001b[38;5;28mround\u001b[39m((j \u001b[38;5;241m+\u001b[39m \u001b[38;5;241m1\u001b[39m) \u001b[38;5;241m/\u001b[39m (math\u001b[38;5;241m.\u001b[39mfactorial(n) \u001b[38;5;241m/\u001b[39m (math\u001b[38;5;241m.\u001b[39mfactorial(r) \u001b[38;5;241m*\u001b[39m math\u001b[38;5;241m.\u001b[39mfactorial(n\u001b[38;5;241m-\u001b[39mr\u001b[38;5;241m-\u001b[39m\u001b[38;5;241m1\u001b[39m))),\u001b[38;5;241m1\u001b[39m)\n\u001b[0;32m     94\u001b[0m previous \u001b[38;5;241m=\u001b[39m \u001b[38;5;28mround\u001b[39m((j) \u001b[38;5;241m/\u001b[39m (math\u001b[38;5;241m.\u001b[39mfactorial(n) \u001b[38;5;241m/\u001b[39m (math\u001b[38;5;241m.\u001b[39mfactorial(r) \u001b[38;5;241m*\u001b[39m math\u001b[38;5;241m.\u001b[39mfactorial(n\u001b[38;5;241m-\u001b[39mr\u001b[38;5;241m-\u001b[39m\u001b[38;5;241m1\u001b[39m))),\u001b[38;5;241m1\u001b[39m)\n",
      "Cell \u001b[1;32mIn[105], line 15\u001b[0m, in \u001b[0;36mout_of_sample_error_function\u001b[1;34m(training_samples_x, training_samples_y, testing_sample_x, testing_sample_y, pred_rule)\u001b[0m\n\u001b[0;32m     13\u001b[0m lasso_cv \u001b[38;5;241m=\u001b[39m LassoCV(cv\u001b[38;5;241m=\u001b[39m\u001b[38;5;241m5\u001b[39m, random_state \u001b[38;5;241m=\u001b[39m \u001b[38;5;241m101\u001b[39m)\n\u001b[0;32m     14\u001b[0m temp_training_x \u001b[38;5;241m=\u001b[39m np\u001b[38;5;241m.\u001b[39mtranspose([training_samples_x])\n\u001b[1;32m---> 15\u001b[0m \u001b[43mlasso_cv\u001b[49m\u001b[38;5;241;43m.\u001b[39;49m\u001b[43mfit\u001b[49m\u001b[43m(\u001b[49m\u001b[43mtemp_training_x\u001b[49m\u001b[43m,\u001b[49m\u001b[43m \u001b[49m\u001b[43mtraining_samples_y\u001b[49m\u001b[43m)\u001b[49m\n\u001b[0;32m     16\u001b[0m training_samples_x \u001b[38;5;241m=\u001b[39m sm\u001b[38;5;241m.\u001b[39madd_constant(training_samples_x)\n\u001b[0;32m     17\u001b[0m model \u001b[38;5;241m=\u001b[39m sm\u001b[38;5;241m.\u001b[39mOLS(training_samples_y,training_samples_x)\u001b[38;5;241m.\u001b[39mfit_regularized(alpha \u001b[38;5;241m=\u001b[39m lasso_cv\u001b[38;5;241m.\u001b[39malpha_)\n",
      "File \u001b[1;32m~\\AppData\\Local\\Programs\\Python\\Python312\\Lib\\site-packages\\sklearn\\base.py:1473\u001b[0m, in \u001b[0;36m_fit_context.<locals>.decorator.<locals>.wrapper\u001b[1;34m(estimator, *args, **kwargs)\u001b[0m\n\u001b[0;32m   1466\u001b[0m     estimator\u001b[38;5;241m.\u001b[39m_validate_params()\n\u001b[0;32m   1468\u001b[0m \u001b[38;5;28;01mwith\u001b[39;00m config_context(\n\u001b[0;32m   1469\u001b[0m     skip_parameter_validation\u001b[38;5;241m=\u001b[39m(\n\u001b[0;32m   1470\u001b[0m         prefer_skip_nested_validation \u001b[38;5;129;01mor\u001b[39;00m global_skip_validation\n\u001b[0;32m   1471\u001b[0m     )\n\u001b[0;32m   1472\u001b[0m ):\n\u001b[1;32m-> 1473\u001b[0m     \u001b[38;5;28;01mreturn\u001b[39;00m \u001b[43mfit_method\u001b[49m\u001b[43m(\u001b[49m\u001b[43mestimator\u001b[49m\u001b[43m,\u001b[49m\u001b[43m \u001b[49m\u001b[38;5;241;43m*\u001b[39;49m\u001b[43margs\u001b[49m\u001b[43m,\u001b[49m\u001b[43m \u001b[49m\u001b[38;5;241;43m*\u001b[39;49m\u001b[38;5;241;43m*\u001b[39;49m\u001b[43mkwargs\u001b[49m\u001b[43m)\u001b[49m\n",
      "File \u001b[1;32m~\\AppData\\Local\\Programs\\Python\\Python312\\Lib\\site-packages\\sklearn\\linear_model\\_coordinate_descent.py:1784\u001b[0m, in \u001b[0;36mLinearModelCV.fit\u001b[1;34m(self, X, y, sample_weight, **params)\u001b[0m\n\u001b[0;32m   1764\u001b[0m \u001b[38;5;66;03m# We do a double for loop folded in one, in order to be able to\u001b[39;00m\n\u001b[0;32m   1765\u001b[0m \u001b[38;5;66;03m# iterate in parallel on l1_ratio and folds\u001b[39;00m\n\u001b[0;32m   1766\u001b[0m jobs \u001b[38;5;241m=\u001b[39m (\n\u001b[0;32m   1767\u001b[0m     delayed(_path_residuals)(\n\u001b[0;32m   1768\u001b[0m         X,\n\u001b[1;32m   (...)\u001b[0m\n\u001b[0;32m   1782\u001b[0m     \u001b[38;5;28;01mfor\u001b[39;00m train, test \u001b[38;5;129;01min\u001b[39;00m folds\n\u001b[0;32m   1783\u001b[0m )\n\u001b[1;32m-> 1784\u001b[0m mse_paths \u001b[38;5;241m=\u001b[39m \u001b[43mParallel\u001b[49m\u001b[43m(\u001b[49m\n\u001b[0;32m   1785\u001b[0m \u001b[43m    \u001b[49m\u001b[43mn_jobs\u001b[49m\u001b[38;5;241;43m=\u001b[39;49m\u001b[38;5;28;43mself\u001b[39;49m\u001b[38;5;241;43m.\u001b[39;49m\u001b[43mn_jobs\u001b[49m\u001b[43m,\u001b[49m\n\u001b[0;32m   1786\u001b[0m \u001b[43m    \u001b[49m\u001b[43mverbose\u001b[49m\u001b[38;5;241;43m=\u001b[39;49m\u001b[38;5;28;43mself\u001b[39;49m\u001b[38;5;241;43m.\u001b[39;49m\u001b[43mverbose\u001b[49m\u001b[43m,\u001b[49m\n\u001b[0;32m   1787\u001b[0m \u001b[43m    \u001b[49m\u001b[43mprefer\u001b[49m\u001b[38;5;241;43m=\u001b[39;49m\u001b[38;5;124;43m\"\u001b[39;49m\u001b[38;5;124;43mthreads\u001b[39;49m\u001b[38;5;124;43m\"\u001b[39;49m\u001b[43m,\u001b[49m\n\u001b[0;32m   1788\u001b[0m \u001b[43m\u001b[49m\u001b[43m)\u001b[49m\u001b[43m(\u001b[49m\u001b[43mjobs\u001b[49m\u001b[43m)\u001b[49m\n\u001b[0;32m   1789\u001b[0m mse_paths \u001b[38;5;241m=\u001b[39m np\u001b[38;5;241m.\u001b[39mreshape(mse_paths, (n_l1_ratio, \u001b[38;5;28mlen\u001b[39m(folds), \u001b[38;5;241m-\u001b[39m\u001b[38;5;241m1\u001b[39m))\n\u001b[0;32m   1790\u001b[0m \u001b[38;5;66;03m# The mean is computed over folds.\u001b[39;00m\n",
      "File \u001b[1;32m~\\AppData\\Local\\Programs\\Python\\Python312\\Lib\\site-packages\\sklearn\\utils\\parallel.py:74\u001b[0m, in \u001b[0;36mParallel.__call__\u001b[1;34m(self, iterable)\u001b[0m\n\u001b[0;32m     69\u001b[0m config \u001b[38;5;241m=\u001b[39m get_config()\n\u001b[0;32m     70\u001b[0m iterable_with_config \u001b[38;5;241m=\u001b[39m (\n\u001b[0;32m     71\u001b[0m     (_with_config(delayed_func, config), args, kwargs)\n\u001b[0;32m     72\u001b[0m     \u001b[38;5;28;01mfor\u001b[39;00m delayed_func, args, kwargs \u001b[38;5;129;01min\u001b[39;00m iterable\n\u001b[0;32m     73\u001b[0m )\n\u001b[1;32m---> 74\u001b[0m \u001b[38;5;28;01mreturn\u001b[39;00m \u001b[38;5;28;43msuper\u001b[39;49m\u001b[43m(\u001b[49m\u001b[43m)\u001b[49m\u001b[38;5;241;43m.\u001b[39;49m\u001b[38;5;21;43m__call__\u001b[39;49m\u001b[43m(\u001b[49m\u001b[43miterable_with_config\u001b[49m\u001b[43m)\u001b[49m\n",
      "File \u001b[1;32m~\\AppData\\Local\\Programs\\Python\\Python312\\Lib\\site-packages\\joblib\\parallel.py:1918\u001b[0m, in \u001b[0;36mParallel.__call__\u001b[1;34m(self, iterable)\u001b[0m\n\u001b[0;32m   1916\u001b[0m     output \u001b[38;5;241m=\u001b[39m \u001b[38;5;28mself\u001b[39m\u001b[38;5;241m.\u001b[39m_get_sequential_output(iterable)\n\u001b[0;32m   1917\u001b[0m     \u001b[38;5;28mnext\u001b[39m(output)\n\u001b[1;32m-> 1918\u001b[0m     \u001b[38;5;28;01mreturn\u001b[39;00m output \u001b[38;5;28;01mif\u001b[39;00m \u001b[38;5;28mself\u001b[39m\u001b[38;5;241m.\u001b[39mreturn_generator \u001b[38;5;28;01melse\u001b[39;00m \u001b[38;5;28;43mlist\u001b[39;49m\u001b[43m(\u001b[49m\u001b[43moutput\u001b[49m\u001b[43m)\u001b[49m\n\u001b[0;32m   1920\u001b[0m \u001b[38;5;66;03m# Let's create an ID that uniquely identifies the current call. If the\u001b[39;00m\n\u001b[0;32m   1921\u001b[0m \u001b[38;5;66;03m# call is interrupted early and that the same instance is immediately\u001b[39;00m\n\u001b[0;32m   1922\u001b[0m \u001b[38;5;66;03m# re-used, this id will be used to prevent workers that were\u001b[39;00m\n\u001b[0;32m   1923\u001b[0m \u001b[38;5;66;03m# concurrently finalizing a task from the previous call to run the\u001b[39;00m\n\u001b[0;32m   1924\u001b[0m \u001b[38;5;66;03m# callback.\u001b[39;00m\n\u001b[0;32m   1925\u001b[0m \u001b[38;5;28;01mwith\u001b[39;00m \u001b[38;5;28mself\u001b[39m\u001b[38;5;241m.\u001b[39m_lock:\n",
      "File \u001b[1;32m~\\AppData\\Local\\Programs\\Python\\Python312\\Lib\\site-packages\\joblib\\parallel.py:1847\u001b[0m, in \u001b[0;36mParallel._get_sequential_output\u001b[1;34m(self, iterable)\u001b[0m\n\u001b[0;32m   1845\u001b[0m \u001b[38;5;28mself\u001b[39m\u001b[38;5;241m.\u001b[39mn_dispatched_batches \u001b[38;5;241m+\u001b[39m\u001b[38;5;241m=\u001b[39m \u001b[38;5;241m1\u001b[39m\n\u001b[0;32m   1846\u001b[0m \u001b[38;5;28mself\u001b[39m\u001b[38;5;241m.\u001b[39mn_dispatched_tasks \u001b[38;5;241m+\u001b[39m\u001b[38;5;241m=\u001b[39m \u001b[38;5;241m1\u001b[39m\n\u001b[1;32m-> 1847\u001b[0m res \u001b[38;5;241m=\u001b[39m \u001b[43mfunc\u001b[49m\u001b[43m(\u001b[49m\u001b[38;5;241;43m*\u001b[39;49m\u001b[43margs\u001b[49m\u001b[43m,\u001b[49m\u001b[43m \u001b[49m\u001b[38;5;241;43m*\u001b[39;49m\u001b[38;5;241;43m*\u001b[39;49m\u001b[43mkwargs\u001b[49m\u001b[43m)\u001b[49m\n\u001b[0;32m   1848\u001b[0m \u001b[38;5;28mself\u001b[39m\u001b[38;5;241m.\u001b[39mn_completed_tasks \u001b[38;5;241m+\u001b[39m\u001b[38;5;241m=\u001b[39m \u001b[38;5;241m1\u001b[39m\n\u001b[0;32m   1849\u001b[0m \u001b[38;5;28mself\u001b[39m\u001b[38;5;241m.\u001b[39mprint_progress()\n",
      "File \u001b[1;32m~\\AppData\\Local\\Programs\\Python\\Python312\\Lib\\site-packages\\sklearn\\utils\\parallel.py:136\u001b[0m, in \u001b[0;36m_FuncWrapper.__call__\u001b[1;34m(self, *args, **kwargs)\u001b[0m\n\u001b[0;32m    134\u001b[0m     config \u001b[38;5;241m=\u001b[39m {}\n\u001b[0;32m    135\u001b[0m \u001b[38;5;28;01mwith\u001b[39;00m config_context(\u001b[38;5;241m*\u001b[39m\u001b[38;5;241m*\u001b[39mconfig):\n\u001b[1;32m--> 136\u001b[0m     \u001b[38;5;28;01mreturn\u001b[39;00m \u001b[38;5;28;43mself\u001b[39;49m\u001b[38;5;241;43m.\u001b[39;49m\u001b[43mfunction\u001b[49m\u001b[43m(\u001b[49m\u001b[38;5;241;43m*\u001b[39;49m\u001b[43margs\u001b[49m\u001b[43m,\u001b[49m\u001b[43m \u001b[49m\u001b[38;5;241;43m*\u001b[39;49m\u001b[38;5;241;43m*\u001b[39;49m\u001b[43mkwargs\u001b[49m\u001b[43m)\u001b[49m\n",
      "File \u001b[1;32m~\\AppData\\Local\\Programs\\Python\\Python312\\Lib\\site-packages\\sklearn\\linear_model\\_coordinate_descent.py:1464\u001b[0m, in \u001b[0;36m_path_residuals\u001b[1;34m(X, y, sample_weight, train, test, fit_intercept, path, path_params, alphas, l1_ratio, X_order, dtype)\u001b[0m\n\u001b[0;32m   1461\u001b[0m \u001b[38;5;66;03m# Do the ordering and type casting here, as if it is done in the path,\u001b[39;00m\n\u001b[0;32m   1462\u001b[0m \u001b[38;5;66;03m# X is copied and a reference is kept here\u001b[39;00m\n\u001b[0;32m   1463\u001b[0m X_train \u001b[38;5;241m=\u001b[39m check_array(X_train, accept_sparse\u001b[38;5;241m=\u001b[39m\u001b[38;5;124m\"\u001b[39m\u001b[38;5;124mcsc\u001b[39m\u001b[38;5;124m\"\u001b[39m, dtype\u001b[38;5;241m=\u001b[39mdtype, order\u001b[38;5;241m=\u001b[39mX_order)\n\u001b[1;32m-> 1464\u001b[0m alphas, coefs, _ \u001b[38;5;241m=\u001b[39m \u001b[43mpath\u001b[49m\u001b[43m(\u001b[49m\u001b[43mX_train\u001b[49m\u001b[43m,\u001b[49m\u001b[43m \u001b[49m\u001b[43my_train\u001b[49m\u001b[43m,\u001b[49m\u001b[43m \u001b[49m\u001b[38;5;241;43m*\u001b[39;49m\u001b[38;5;241;43m*\u001b[39;49m\u001b[43mpath_params\u001b[49m\u001b[43m)\u001b[49m\n\u001b[0;32m   1465\u001b[0m \u001b[38;5;28;01mdel\u001b[39;00m X_train, y_train\n\u001b[0;32m   1467\u001b[0m \u001b[38;5;28;01mif\u001b[39;00m y\u001b[38;5;241m.\u001b[39mndim \u001b[38;5;241m==\u001b[39m \u001b[38;5;241m1\u001b[39m:\n\u001b[0;32m   1468\u001b[0m     \u001b[38;5;66;03m# Doing this so that it becomes coherent with multioutput.\u001b[39;00m\n",
      "File \u001b[1;32m~\\AppData\\Local\\Programs\\Python\\Python312\\Lib\\site-packages\\sklearn\\utils\\_param_validation.py:186\u001b[0m, in \u001b[0;36mvalidate_params.<locals>.decorator.<locals>.wrapper\u001b[1;34m(*args, **kwargs)\u001b[0m\n\u001b[0;32m    184\u001b[0m global_skip_validation \u001b[38;5;241m=\u001b[39m get_config()[\u001b[38;5;124m\"\u001b[39m\u001b[38;5;124mskip_parameter_validation\u001b[39m\u001b[38;5;124m\"\u001b[39m]\n\u001b[0;32m    185\u001b[0m \u001b[38;5;28;01mif\u001b[39;00m global_skip_validation:\n\u001b[1;32m--> 186\u001b[0m     \u001b[38;5;28;01mreturn\u001b[39;00m \u001b[43mfunc\u001b[49m\u001b[43m(\u001b[49m\u001b[38;5;241;43m*\u001b[39;49m\u001b[43margs\u001b[49m\u001b[43m,\u001b[49m\u001b[43m \u001b[49m\u001b[38;5;241;43m*\u001b[39;49m\u001b[38;5;241;43m*\u001b[39;49m\u001b[43mkwargs\u001b[49m\u001b[43m)\u001b[49m\n\u001b[0;32m    188\u001b[0m func_sig \u001b[38;5;241m=\u001b[39m signature(func)\n\u001b[0;32m    190\u001b[0m \u001b[38;5;66;03m# Map *args/**kwargs to the function signature\u001b[39;00m\n",
      "File \u001b[1;32m~\\AppData\\Local\\Programs\\Python\\Python312\\Lib\\site-packages\\sklearn\\linear_model\\_coordinate_descent.py:361\u001b[0m, in \u001b[0;36mlasso_path\u001b[1;34m(X, y, eps, n_alphas, alphas, precompute, Xy, copy_X, coef_init, verbose, return_n_iter, positive, **params)\u001b[0m\n\u001b[0;32m    188\u001b[0m \u001b[38;5;129m@validate_params\u001b[39m(\n\u001b[0;32m    189\u001b[0m     {\n\u001b[0;32m    190\u001b[0m         \u001b[38;5;124m\"\u001b[39m\u001b[38;5;124mX\u001b[39m\u001b[38;5;124m\"\u001b[39m: [\u001b[38;5;124m\"\u001b[39m\u001b[38;5;124marray-like\u001b[39m\u001b[38;5;124m\"\u001b[39m, \u001b[38;5;124m\"\u001b[39m\u001b[38;5;124msparse matrix\u001b[39m\u001b[38;5;124m\"\u001b[39m],\n\u001b[1;32m   (...)\u001b[0m\n\u001b[0;32m    219\u001b[0m     \u001b[38;5;241m*\u001b[39m\u001b[38;5;241m*\u001b[39mparams,\n\u001b[0;32m    220\u001b[0m ):\n\u001b[0;32m    221\u001b[0m \u001b[38;5;250m    \u001b[39m\u001b[38;5;124;03m\"\"\"Compute Lasso path with coordinate descent.\u001b[39;00m\n\u001b[0;32m    222\u001b[0m \n\u001b[0;32m    223\u001b[0m \u001b[38;5;124;03m    The Lasso optimization function varies for mono and multi-outputs.\u001b[39;00m\n\u001b[1;32m   (...)\u001b[0m\n\u001b[0;32m    359\u001b[0m \u001b[38;5;124;03m     [0.2159048  0.4425765  0.23668876]]\u001b[39;00m\n\u001b[0;32m    360\u001b[0m \u001b[38;5;124;03m    \"\"\"\u001b[39;00m\n\u001b[1;32m--> 361\u001b[0m     \u001b[38;5;28;01mreturn\u001b[39;00m \u001b[43menet_path\u001b[49m\u001b[43m(\u001b[49m\n\u001b[0;32m    362\u001b[0m \u001b[43m        \u001b[49m\u001b[43mX\u001b[49m\u001b[43m,\u001b[49m\n\u001b[0;32m    363\u001b[0m \u001b[43m        \u001b[49m\u001b[43my\u001b[49m\u001b[43m,\u001b[49m\n\u001b[0;32m    364\u001b[0m \u001b[43m        \u001b[49m\u001b[43ml1_ratio\u001b[49m\u001b[38;5;241;43m=\u001b[39;49m\u001b[38;5;241;43m1.0\u001b[39;49m\u001b[43m,\u001b[49m\n\u001b[0;32m    365\u001b[0m \u001b[43m        \u001b[49m\u001b[43meps\u001b[49m\u001b[38;5;241;43m=\u001b[39;49m\u001b[43meps\u001b[49m\u001b[43m,\u001b[49m\n\u001b[0;32m    366\u001b[0m \u001b[43m        \u001b[49m\u001b[43mn_alphas\u001b[49m\u001b[38;5;241;43m=\u001b[39;49m\u001b[43mn_alphas\u001b[49m\u001b[43m,\u001b[49m\n\u001b[0;32m    367\u001b[0m \u001b[43m        \u001b[49m\u001b[43malphas\u001b[49m\u001b[38;5;241;43m=\u001b[39;49m\u001b[43malphas\u001b[49m\u001b[43m,\u001b[49m\n\u001b[0;32m    368\u001b[0m \u001b[43m        \u001b[49m\u001b[43mprecompute\u001b[49m\u001b[38;5;241;43m=\u001b[39;49m\u001b[43mprecompute\u001b[49m\u001b[43m,\u001b[49m\n\u001b[0;32m    369\u001b[0m \u001b[43m        \u001b[49m\u001b[43mXy\u001b[49m\u001b[38;5;241;43m=\u001b[39;49m\u001b[43mXy\u001b[49m\u001b[43m,\u001b[49m\n\u001b[0;32m    370\u001b[0m \u001b[43m        \u001b[49m\u001b[43mcopy_X\u001b[49m\u001b[38;5;241;43m=\u001b[39;49m\u001b[43mcopy_X\u001b[49m\u001b[43m,\u001b[49m\n\u001b[0;32m    371\u001b[0m \u001b[43m        \u001b[49m\u001b[43mcoef_init\u001b[49m\u001b[38;5;241;43m=\u001b[39;49m\u001b[43mcoef_init\u001b[49m\u001b[43m,\u001b[49m\n\u001b[0;32m    372\u001b[0m \u001b[43m        \u001b[49m\u001b[43mverbose\u001b[49m\u001b[38;5;241;43m=\u001b[39;49m\u001b[43mverbose\u001b[49m\u001b[43m,\u001b[49m\n\u001b[0;32m    373\u001b[0m \u001b[43m        \u001b[49m\u001b[43mpositive\u001b[49m\u001b[38;5;241;43m=\u001b[39;49m\u001b[43mpositive\u001b[49m\u001b[43m,\u001b[49m\n\u001b[0;32m    374\u001b[0m \u001b[43m        \u001b[49m\u001b[43mreturn_n_iter\u001b[49m\u001b[38;5;241;43m=\u001b[39;49m\u001b[43mreturn_n_iter\u001b[49m\u001b[43m,\u001b[49m\n\u001b[0;32m    375\u001b[0m \u001b[43m        \u001b[49m\u001b[38;5;241;43m*\u001b[39;49m\u001b[38;5;241;43m*\u001b[39;49m\u001b[43mparams\u001b[49m\u001b[43m,\u001b[49m\n\u001b[0;32m    376\u001b[0m \u001b[43m    \u001b[49m\u001b[43m)\u001b[49m\n",
      "File \u001b[1;32m~\\AppData\\Local\\Programs\\Python\\Python312\\Lib\\site-packages\\sklearn\\utils\\_param_validation.py:186\u001b[0m, in \u001b[0;36mvalidate_params.<locals>.decorator.<locals>.wrapper\u001b[1;34m(*args, **kwargs)\u001b[0m\n\u001b[0;32m    184\u001b[0m global_skip_validation \u001b[38;5;241m=\u001b[39m get_config()[\u001b[38;5;124m\"\u001b[39m\u001b[38;5;124mskip_parameter_validation\u001b[39m\u001b[38;5;124m\"\u001b[39m]\n\u001b[0;32m    185\u001b[0m \u001b[38;5;28;01mif\u001b[39;00m global_skip_validation:\n\u001b[1;32m--> 186\u001b[0m     \u001b[38;5;28;01mreturn\u001b[39;00m \u001b[43mfunc\u001b[49m\u001b[43m(\u001b[49m\u001b[38;5;241;43m*\u001b[39;49m\u001b[43margs\u001b[49m\u001b[43m,\u001b[49m\u001b[43m \u001b[49m\u001b[38;5;241;43m*\u001b[39;49m\u001b[38;5;241;43m*\u001b[39;49m\u001b[43mkwargs\u001b[49m\u001b[43m)\u001b[49m\n\u001b[0;32m    188\u001b[0m func_sig \u001b[38;5;241m=\u001b[39m signature(func)\n\u001b[0;32m    190\u001b[0m \u001b[38;5;66;03m# Map *args/**kwargs to the function signature\u001b[39;00m\n",
      "File \u001b[1;32m~\\AppData\\Local\\Programs\\Python\\Python312\\Lib\\site-packages\\sklearn\\linear_model\\_coordinate_descent.py:683\u001b[0m, in \u001b[0;36menet_path\u001b[1;34m(X, y, l1_ratio, eps, n_alphas, alphas, precompute, Xy, copy_X, coef_init, verbose, return_n_iter, positive, check_input, **params)\u001b[0m\n\u001b[0;32m    681\u001b[0m     \u001b[38;5;28;01mif\u001b[39;00m check_input:\n\u001b[0;32m    682\u001b[0m         precompute \u001b[38;5;241m=\u001b[39m check_array(precompute, dtype\u001b[38;5;241m=\u001b[39mX\u001b[38;5;241m.\u001b[39mdtype\u001b[38;5;241m.\u001b[39mtype, order\u001b[38;5;241m=\u001b[39m\u001b[38;5;124m\"\u001b[39m\u001b[38;5;124mC\u001b[39m\u001b[38;5;124m\"\u001b[39m)\n\u001b[1;32m--> 683\u001b[0m     model \u001b[38;5;241m=\u001b[39m \u001b[43mcd_fast\u001b[49m\u001b[38;5;241;43m.\u001b[39;49m\u001b[43menet_coordinate_descent_gram\u001b[49m\u001b[43m(\u001b[49m\n\u001b[0;32m    684\u001b[0m \u001b[43m        \u001b[49m\u001b[43mcoef_\u001b[49m\u001b[43m,\u001b[49m\n\u001b[0;32m    685\u001b[0m \u001b[43m        \u001b[49m\u001b[43ml1_reg\u001b[49m\u001b[43m,\u001b[49m\n\u001b[0;32m    686\u001b[0m \u001b[43m        \u001b[49m\u001b[43ml2_reg\u001b[49m\u001b[43m,\u001b[49m\n\u001b[0;32m    687\u001b[0m \u001b[43m        \u001b[49m\u001b[43mprecompute\u001b[49m\u001b[43m,\u001b[49m\n\u001b[0;32m    688\u001b[0m \u001b[43m        \u001b[49m\u001b[43mXy\u001b[49m\u001b[43m,\u001b[49m\n\u001b[0;32m    689\u001b[0m \u001b[43m        \u001b[49m\u001b[43my\u001b[49m\u001b[43m,\u001b[49m\n\u001b[0;32m    690\u001b[0m \u001b[43m        \u001b[49m\u001b[43mmax_iter\u001b[49m\u001b[43m,\u001b[49m\n\u001b[0;32m    691\u001b[0m \u001b[43m        \u001b[49m\u001b[43mtol\u001b[49m\u001b[43m,\u001b[49m\n\u001b[0;32m    692\u001b[0m \u001b[43m        \u001b[49m\u001b[43mrng\u001b[49m\u001b[43m,\u001b[49m\n\u001b[0;32m    693\u001b[0m \u001b[43m        \u001b[49m\u001b[43mrandom\u001b[49m\u001b[43m,\u001b[49m\n\u001b[0;32m    694\u001b[0m \u001b[43m        \u001b[49m\u001b[43mpositive\u001b[49m\u001b[43m,\u001b[49m\n\u001b[0;32m    695\u001b[0m \u001b[43m    \u001b[49m\u001b[43m)\u001b[49m\n\u001b[0;32m    696\u001b[0m \u001b[38;5;28;01melif\u001b[39;00m precompute \u001b[38;5;129;01mis\u001b[39;00m \u001b[38;5;28;01mFalse\u001b[39;00m:\n\u001b[0;32m    697\u001b[0m     model \u001b[38;5;241m=\u001b[39m cd_fast\u001b[38;5;241m.\u001b[39menet_coordinate_descent(\n\u001b[0;32m    698\u001b[0m         coef_, l1_reg, l2_reg, X, y, max_iter, tol, rng, random, positive\n\u001b[0;32m    699\u001b[0m     )\n",
      "File \u001b[1;32m_cd_fast.pyx:629\u001b[0m, in \u001b[0;36msklearn.linear_model._cd_fast.enet_coordinate_descent_gram\u001b[1;34m()\u001b[0m\n",
      "File \u001b[1;32m~\\AppData\\Local\\Programs\\Python\\Python312\\Lib\\site-packages\\numpy\\_core\\multiarray.py:757\u001b[0m, in \u001b[0;36mdot\u001b[1;34m(a, b, out)\u001b[0m\n\u001b[0;32m    750\u001b[0m \u001b[38;5;129m@array_function_from_c_func_and_dispatcher\u001b[39m(_multiarray_umath\u001b[38;5;241m.\u001b[39mdot)\n\u001b[0;32m    751\u001b[0m \u001b[38;5;28;01mdef\u001b[39;00m \u001b[38;5;21mdot\u001b[39m(a, b, out\u001b[38;5;241m=\u001b[39m\u001b[38;5;28;01mNone\u001b[39;00m):\n\u001b[0;32m    752\u001b[0m \u001b[38;5;250m    \u001b[39m\u001b[38;5;124;03m\"\"\"\u001b[39;00m\n\u001b[0;32m    753\u001b[0m \u001b[38;5;124;03m    dot(a, b, out=None)\u001b[39;00m\n\u001b[0;32m    754\u001b[0m \n\u001b[0;32m    755\u001b[0m \u001b[38;5;124;03m    Dot product of two arrays. Specifically,\u001b[39;00m\n\u001b[0;32m    756\u001b[0m \n\u001b[1;32m--> 757\u001b[0m \u001b[38;5;124;03m    - If both `a` and `b` are 1-D arrays, it is inner product of vectors\u001b[39;00m\n\u001b[0;32m    758\u001b[0m \u001b[38;5;124;03m      (without complex conjugation).\u001b[39;00m\n\u001b[0;32m    759\u001b[0m \n\u001b[0;32m    760\u001b[0m \u001b[38;5;124;03m    - If both `a` and `b` are 2-D arrays, it is matrix multiplication,\u001b[39;00m\n\u001b[0;32m    761\u001b[0m \u001b[38;5;124;03m      but using :func:`matmul` or ``a @ b`` is preferred.\u001b[39;00m\n\u001b[0;32m    762\u001b[0m \n\u001b[0;32m    763\u001b[0m \u001b[38;5;124;03m    - If either `a` or `b` is 0-D (scalar), it is equivalent to\u001b[39;00m\n\u001b[0;32m    764\u001b[0m \u001b[38;5;124;03m      :func:`multiply` and using ``numpy.multiply(a, b)`` or ``a * b`` is\u001b[39;00m\n\u001b[0;32m    765\u001b[0m \u001b[38;5;124;03m      preferred.\u001b[39;00m\n\u001b[0;32m    766\u001b[0m \n\u001b[0;32m    767\u001b[0m \u001b[38;5;124;03m    - If `a` is an N-D array and `b` is a 1-D array, it is a sum product over\u001b[39;00m\n\u001b[0;32m    768\u001b[0m \u001b[38;5;124;03m      the last axis of `a` and `b`.\u001b[39;00m\n\u001b[0;32m    769\u001b[0m \n\u001b[0;32m    770\u001b[0m \u001b[38;5;124;03m    - If `a` is an N-D array and `b` is an M-D array (where ``M>=2``), it is a\u001b[39;00m\n\u001b[0;32m    771\u001b[0m \u001b[38;5;124;03m      sum product over the last axis of `a` and the second-to-last axis of\u001b[39;00m\n\u001b[0;32m    772\u001b[0m \u001b[38;5;124;03m      `b`::\u001b[39;00m\n\u001b[0;32m    773\u001b[0m \n\u001b[0;32m    774\u001b[0m \u001b[38;5;124;03m        dot(a, b)[i,j,k,m] = sum(a[i,j,:] * b[k,:,m])\u001b[39;00m\n\u001b[0;32m    775\u001b[0m \n\u001b[0;32m    776\u001b[0m \u001b[38;5;124;03m    It uses an optimized BLAS library when possible (see `numpy.linalg`).\u001b[39;00m\n\u001b[0;32m    777\u001b[0m \n\u001b[0;32m    778\u001b[0m \u001b[38;5;124;03m    Parameters\u001b[39;00m\n\u001b[0;32m    779\u001b[0m \u001b[38;5;124;03m    ----------\u001b[39;00m\n\u001b[0;32m    780\u001b[0m \u001b[38;5;124;03m    a : array_like\u001b[39;00m\n\u001b[0;32m    781\u001b[0m \u001b[38;5;124;03m        First argument.\u001b[39;00m\n\u001b[0;32m    782\u001b[0m \u001b[38;5;124;03m    b : array_like\u001b[39;00m\n\u001b[0;32m    783\u001b[0m \u001b[38;5;124;03m        Second argument.\u001b[39;00m\n\u001b[0;32m    784\u001b[0m \u001b[38;5;124;03m    out : ndarray, optional\u001b[39;00m\n\u001b[0;32m    785\u001b[0m \u001b[38;5;124;03m        Output argument. This must have the exact kind that would be returned\u001b[39;00m\n\u001b[0;32m    786\u001b[0m \u001b[38;5;124;03m        if it was not used. In particular, it must have the right type, must be\u001b[39;00m\n\u001b[0;32m    787\u001b[0m \u001b[38;5;124;03m        C-contiguous, and its dtype must be the dtype that would be returned\u001b[39;00m\n\u001b[0;32m    788\u001b[0m \u001b[38;5;124;03m        for `dot(a,b)`. This is a performance feature. Therefore, if these\u001b[39;00m\n\u001b[0;32m    789\u001b[0m \u001b[38;5;124;03m        conditions are not met, an exception is raised, instead of attempting\u001b[39;00m\n\u001b[0;32m    790\u001b[0m \u001b[38;5;124;03m        to be flexible.\u001b[39;00m\n\u001b[0;32m    791\u001b[0m \n\u001b[0;32m    792\u001b[0m \u001b[38;5;124;03m    Returns\u001b[39;00m\n\u001b[0;32m    793\u001b[0m \u001b[38;5;124;03m    -------\u001b[39;00m\n\u001b[0;32m    794\u001b[0m \u001b[38;5;124;03m    output : ndarray\u001b[39;00m\n\u001b[0;32m    795\u001b[0m \u001b[38;5;124;03m        Returns the dot product of `a` and `b`.  If `a` and `b` are both\u001b[39;00m\n\u001b[0;32m    796\u001b[0m \u001b[38;5;124;03m        scalars or both 1-D arrays then a scalar is returned; otherwise\u001b[39;00m\n\u001b[0;32m    797\u001b[0m \u001b[38;5;124;03m        an array is returned.\u001b[39;00m\n\u001b[0;32m    798\u001b[0m \u001b[38;5;124;03m        If `out` is given, then it is returned.\u001b[39;00m\n\u001b[0;32m    799\u001b[0m \n\u001b[0;32m    800\u001b[0m \u001b[38;5;124;03m    Raises\u001b[39;00m\n\u001b[0;32m    801\u001b[0m \u001b[38;5;124;03m    ------\u001b[39;00m\n\u001b[0;32m    802\u001b[0m \u001b[38;5;124;03m    ValueError\u001b[39;00m\n\u001b[0;32m    803\u001b[0m \u001b[38;5;124;03m        If the last dimension of `a` is not the same size as\u001b[39;00m\n\u001b[0;32m    804\u001b[0m \u001b[38;5;124;03m        the second-to-last dimension of `b`.\u001b[39;00m\n\u001b[0;32m    805\u001b[0m \n\u001b[0;32m    806\u001b[0m \u001b[38;5;124;03m    See Also\u001b[39;00m\n\u001b[0;32m    807\u001b[0m \u001b[38;5;124;03m    --------\u001b[39;00m\n\u001b[0;32m    808\u001b[0m \u001b[38;5;124;03m    vdot : Complex-conjugating dot product.\u001b[39;00m\n\u001b[0;32m    809\u001b[0m \u001b[38;5;124;03m    tensordot : Sum products over arbitrary axes.\u001b[39;00m\n\u001b[0;32m    810\u001b[0m \u001b[38;5;124;03m    einsum : Einstein summation convention.\u001b[39;00m\n\u001b[0;32m    811\u001b[0m \u001b[38;5;124;03m    matmul : '@' operator as method with out parameter.\u001b[39;00m\n\u001b[0;32m    812\u001b[0m \u001b[38;5;124;03m    linalg.multi_dot : Chained dot product.\u001b[39;00m\n\u001b[0;32m    813\u001b[0m \n\u001b[0;32m    814\u001b[0m \u001b[38;5;124;03m    Examples\u001b[39;00m\n\u001b[0;32m    815\u001b[0m \u001b[38;5;124;03m    --------\u001b[39;00m\n\u001b[0;32m    816\u001b[0m \u001b[38;5;124;03m    >>> np.dot(3, 4)\u001b[39;00m\n\u001b[0;32m    817\u001b[0m \u001b[38;5;124;03m    12\u001b[39;00m\n\u001b[0;32m    818\u001b[0m \n\u001b[0;32m    819\u001b[0m \u001b[38;5;124;03m    Neither argument is complex-conjugated:\u001b[39;00m\n\u001b[0;32m    820\u001b[0m \n\u001b[0;32m    821\u001b[0m \u001b[38;5;124;03m    >>> np.dot([2j, 3j], [2j, 3j])\u001b[39;00m\n\u001b[0;32m    822\u001b[0m \u001b[38;5;124;03m    (-13+0j)\u001b[39;00m\n\u001b[0;32m    823\u001b[0m \n\u001b[0;32m    824\u001b[0m \u001b[38;5;124;03m    For 2-D arrays it is the matrix product:\u001b[39;00m\n\u001b[0;32m    825\u001b[0m \n\u001b[0;32m    826\u001b[0m \u001b[38;5;124;03m    >>> a = [[1, 0], [0, 1]]\u001b[39;00m\n\u001b[0;32m    827\u001b[0m \u001b[38;5;124;03m    >>> b = [[4, 1], [2, 2]]\u001b[39;00m\n\u001b[0;32m    828\u001b[0m \u001b[38;5;124;03m    >>> np.dot(a, b)\u001b[39;00m\n\u001b[0;32m    829\u001b[0m \u001b[38;5;124;03m    array([[4, 1],\u001b[39;00m\n\u001b[0;32m    830\u001b[0m \u001b[38;5;124;03m           [2, 2]])\u001b[39;00m\n\u001b[0;32m    831\u001b[0m \n\u001b[0;32m    832\u001b[0m \u001b[38;5;124;03m    >>> a = np.arange(3*4*5*6).reshape((3,4,5,6))\u001b[39;00m\n\u001b[0;32m    833\u001b[0m \u001b[38;5;124;03m    >>> b = np.arange(3*4*5*6)[::-1].reshape((5,4,6,3))\u001b[39;00m\n\u001b[0;32m    834\u001b[0m \u001b[38;5;124;03m    >>> np.dot(a, b)[2,3,2,1,2,2]\u001b[39;00m\n\u001b[0;32m    835\u001b[0m \u001b[38;5;124;03m    499128\u001b[39;00m\n\u001b[0;32m    836\u001b[0m \u001b[38;5;124;03m    >>> sum(a[2,3,2,:] * b[1,2,:,2])\u001b[39;00m\n\u001b[0;32m    837\u001b[0m \u001b[38;5;124;03m    499128\u001b[39;00m\n\u001b[0;32m    838\u001b[0m \n\u001b[0;32m    839\u001b[0m \u001b[38;5;124;03m    \"\"\"\u001b[39;00m\n\u001b[0;32m    840\u001b[0m     \u001b[38;5;28;01mreturn\u001b[39;00m (a, b, out)\n",
      "\u001b[1;31mKeyboardInterrupt\u001b[0m: "
     ]
    }
   ],
   "source": [
    "# define the error function\n",
    "def out_of_sample_error_function(training_samples_x,training_samples_y, testing_sample_x,testing_sample_y, pred_rule):\n",
    "    if pred_rule == \"OLS\":\n",
    "        training_samples_x = sm.add_constant(training_samples_x)\n",
    "        model = sm.OLS(training_samples_y,training_samples_x).fit()\n",
    "        testing_sample_x = sm.add_constant(testing_sample_x)\n",
    "        predictions = model.predict(testing_sample_x)\n",
    "        temp_sum = 0\n",
    "        for k in range(len(predictions)):\n",
    "            temp_sum += (predictions[k] - testing_sample_y[k])**2\n",
    "        return temp_sum / len(testing_sample_y)\n",
    "    elif pred_rule == \"lasso\":\n",
    "        lasso_cv = LassoCV(cv=5, random_state = 101)\n",
    "        temp_training_x = np.transpose([training_samples_x])\n",
    "        lasso_cv.fit(temp_training_x, training_samples_y)\n",
    "        training_samples_x = sm.add_constant(training_samples_x)\n",
    "        model = sm.OLS(training_samples_y,training_samples_x).fit_regularized(alpha = lasso_cv.alpha_)\n",
    "        testing_sample_x = sm.add_constant(testing_sample_x)\n",
    "        predictions = model.predict(testing_sample_x)\n",
    "        temp_sum = 0\n",
    "        for k in range(len(predictions)):\n",
    "            temp_sum += (predictions[k] - testing_sample_y[k])**2\n",
    "        return temp_sum / len(testing_sample_y)\n",
    "    else:\n",
    "        temp_sum = 0\n",
    "        for k in range(len(testing_sample_y)):\n",
    "            # pred_rule is of the form pred_rule(training_samples_x,training_samples_y,testing_sample_x[k])\n",
    "            temp_sum += (pred_rule(training_samples_x,training_samples_y,testing_sample_x[k]) - testing_sample_y[k])**2\n",
    "        return temp_sum / len(testing_sample_y)\n",
    "\n",
    "### draw the actual combinations of training and testing samples and generate e_values\n",
    "e_values = []\n",
    "\n",
    "### do OLS prediction rule\n",
    "pred_rule = \"OLS\"\n",
    "\n",
    "print(\"OLS running\")\n",
    "start = datetime.now()\n",
    "for j in range(len(possible_combinations)):\n",
    "    x = possible_combinations[j]\n",
    "    # get training sample\n",
    "    training_indices = []\n",
    "    training_samples_y = []\n",
    "    training_samples_x = []\n",
    "    for z in x:\n",
    "        training_indices.append(z)\n",
    "    # get testing sample\n",
    "    testing_index = training_indices[-1]\n",
    "    training_indices.pop()\n",
    "    \n",
    "    for z in training_indices:\n",
    "        training_samples_y.extend(y[z])\n",
    "        training_samples_x.extend(xs[z])\n",
    "    testing_sample_y = []\n",
    "    testing_sample_x = []\n",
    "    testing_sample_y.extend(y[testing_index])\n",
    "    testing_sample_x = xs[testing_index]\n",
    "\n",
    "    e_values.append(out_of_sample_error_function(training_samples_x,training_samples_y, testing_sample_x,testing_sample_y, pred_rule))\n",
    "    current = round((j + 1) / (math.factorial(n) / (math.factorial(r) * math.factorial(n-r-1))),1)\n",
    "    previous = round((j) / (math.factorial(n) / (math.factorial(r) * math.factorial(n-r-1))),1)\n",
    "    if current != previous:\n",
    "        print(round(current * 100), \"%\")\n",
    "print(\"OLS runtime was: \",datetime.now() - start)\n",
    "\n",
    "### do sqrt-lasso prediction rule\n",
    "e_values_lasso = []\n",
    "pred_rule = \"lasso\"\n",
    "\n",
    "print(\"lasso running\")\n",
    "start = datetime.now()\n",
    "for j in range(len(possible_combinations)):\n",
    "    x = possible_combinations[j]\n",
    "    # get training sample\n",
    "    training_indices = []\n",
    "    training_samples_y = []\n",
    "    training_samples_x = []\n",
    "    for z in x:\n",
    "        training_indices.append(z)\n",
    "    # get testing sample\n",
    "    testing_index = training_indices[-1]\n",
    "    training_indices.pop()\n",
    "    \n",
    "    for z in training_indices:\n",
    "        training_samples_y.extend(y[z])\n",
    "        training_samples_x.extend(xs[z])\n",
    "    testing_sample_y = []\n",
    "    testing_sample_x = []\n",
    "    testing_sample_y.extend(y[testing_index])\n",
    "    testing_sample_x = xs[testing_index]\n",
    "\n",
    "    e_values_lasso.append(out_of_sample_error_function(training_samples_x,training_samples_y, testing_sample_x,testing_sample_y, pred_rule))\n",
    "    current = round((j + 1) / (math.factorial(n) / (math.factorial(r) * math.factorial(n-r-1))),1)\n",
    "    previous = round((j) / (math.factorial(n) / (math.factorial(r) * math.factorial(n-r-1))),1)\n",
    "    if current != previous:\n",
    "        print(round(current * 100), \"%\")\n",
    "\n",
    "print(\"Lasso runtime was: \",datetime.now() - start)"
   ]
  },
  {
   "cell_type": "code",
   "execution_count": null,
   "id": "f0d5ea84-30d1-44fd-b2b5-650c338f45d7",
   "metadata": {},
   "outputs": [],
   "source": [
    "# plot a histogram\n",
    "plt.hist(e_values, bins=30, color='skyblue', edgecolor='black')\n",
    "plt.show()"
   ]
  },
  {
   "cell_type": "code",
   "execution_count": null,
   "id": "6dc21391-2b84-47dd-a012-c99d0c5dcf51",
   "metadata": {},
   "outputs": [],
   "source": [
    "plt.hist(e_values_lasso, bins = 30, color=\"skyblue\", edgecolor=\"black\")\n",
    "plt.show()"
   ]
  },
  {
   "cell_type": "code",
   "execution_count": null,
   "id": "6d601d39-7b6d-46af-a229-91a4c9161173",
   "metadata": {},
   "outputs": [],
   "source": [
    "# make confidence interval\n",
    "ci_upper = np.percentile(e_values, tau * 100)\n",
    "\n",
    "ci_lower = np.percentile(e_values, (1-tau) * 100)\n",
    "\n",
    "ci_upper_lasso = np.percentile(e_values_lasso, tau * 100)\n",
    "ci_lower_lasso = np.percentile(e_values_lasso, (1-tau) * 100)\n",
    "\n",
    "\n",
    "print([ci_lower,ci_upper])\n",
    "print([min(e_values),max(e_values)])\n",
    "\n",
    "print([ci_lower_lasso,ci_upper_lasso])\n",
    "\n",
    "\n",
    "# set up the figure\n",
    "fig = plt.figure()\n",
    "ax = fig.add_subplot(111)\n",
    "ax.set_xlim(0,10)\n",
    "ax.set_ylim(0,10)\n",
    "\n",
    "# draw first CI\n",
    "xmin = ci_lower\n",
    "xmax = ci_upper\n",
    "y_temp = 1\n",
    "height = 0.2\n",
    "\n",
    "plt.hlines(y_temp, xmin, xmax)\n",
    "plt.vlines(xmin, y_temp - height / 2., y_temp + height / 2.)\n",
    "plt.vlines(xmax, y_temp - height / 2., y_temp + height / 2.)\n",
    "\n",
    "# draw second CI\n",
    "xmin_2 = ci_lower_lasso\n",
    "xmax_2 = ci_upper_lasso\n",
    "y_temp_2 = 2\n",
    "height = 0.2\n",
    "\n",
    "plt.hlines(y_temp_2, xmin_2, xmax_2)\n",
    "plt.vlines(xmin_2, y_temp_2 - height / 2., y_temp_2 + height / 2.)\n",
    "plt.vlines(xmax_2, y_temp_2 - height / 2., y_temp_2 + height / 2.)\n",
    "\n",
    "\n",
    "# draw a point on the line\n",
    "#px = 4\n",
    "#plt.plot(px,y, 'ro', ms = 15, mfc = 'r')\n",
    "\n",
    "\n",
    "# add numbers\n",
    "plt.text(xmin - 0.1, y_temp, str(round(ci_lower,3)), horizontalalignment='right')\n",
    "plt.text(xmax + 0.1, y_temp, str(round(ci_upper,3)), horizontalalignment='left')\n",
    "\n",
    "plt.text(xmin_2 - 0.1, y_temp_2, str(round(ci_lower_lasso,3)), horizontalalignment='right')\n",
    "plt.text(xmax_2 + 0.1, y_temp_2, str(round(ci_upper_lasso,3)), horizontalalignment='left')\n",
    "\n",
    "plt.axis('off')\n",
    "plt.show()"
   ]
  },
  {
   "cell_type": "markdown",
   "id": "d7543b83-a259-4d5e-b055-569a8edb3e2e",
   "metadata": {},
   "source": [
    "## Bayesian Approach\n",
    "Have the following two priors:\n",
    "$\\beta|\\sigma \\sim N(0,\\sigma^2)$\n",
    "\n",
    "$\\sigma^2 \\sim InvGamma(\\alpha_{\\pi},\\beta_{\\pi})$\n",
    "\n",
    "The prior that we take on is $\\alpha_{\\pi} = \\beta_{\\pi} = 1$. We use the same data generated previously\n",
    "\n",
    "The Bayesian update looks like doing\n",
    "\n",
    "$\\beta|\\sigma, \\mathbf{X}, \\mathbf{y} \\sim N((\\mathbf{X}^T \\mathbf{X} + \\mathbb{I}_k)^{-1} \\mathbf{X}^T \\mathbf{X} \\hat{\\beta}_{OLS}, \\sigma^2 (\\mathbf{X}^{T} \\mathbf{X})^{-1} + \\mathbb{I}_k)$\n",
    "\n",
    "$\\sigma^2|\\mathbf{X},\\mathbf{y} \\sim InvGamma(\\alpha_{\\pi} + \\frac{n}{2}, \\beta_{\\pi} + \\frac{1}{2}(\\mathbf{y}^T \\mathbf{y} - \\mathbf{y}^T \\mathbf{X}(\\mathbf{X}^T \\mathbf{X} + \\mathbb{I}_k)^{-1}\\mathbf{X}^T \\mathbf{y}))$"
   ]
  },
  {
   "cell_type": "code",
   "execution_count": 109,
   "id": "d5306f8e-ff80-4bdb-a661-97394fcf30c0",
   "metadata": {},
   "outputs": [],
   "source": [
    "# transform data into matrix form\n",
    "xs_matrix = np.transpose(np.asmatrix(np.array(xs[0])))\n",
    "for k in range(1,len(xs)):\n",
    "    xs_matrix = np.concatenate((xs_matrix, np.transpose(np.asmatrix(np.array(xs[k])))))\n",
    "\n",
    "# calculate beta_ols using all of the data as training across all domains\n",
    "all_training_data_x = np.array(xs)\n",
    "all_training_data_x = all_training_data_x.flatten()\n",
    "\n",
    "all_training_data_y = np.array(y)\n",
    "all_training_data_y = all_training_data_y.flatten()\n",
    "\n",
    "y_matrix = np.transpose(np.asmatrix(all_training_data_y))\n",
    "\n",
    "\n",
    "all_training_data_x = sm.add_constant(all_training_data_x)\n",
    "\n",
    "model = sm.OLS(all_training_data_y,all_training_data_x).fit()\n",
    "\n",
    "# need to account for column of all 1's to reflect the constant being included\n",
    "#all_ones = np.transpose(np.asmatrix(np.ones(len(all_training_data_x))))\n",
    "\n",
    "#xs_matrix = np.hstack((all_ones,xs_matrix))\n",
    "\n",
    "beta_ols = (np.transpose(np.asmatrix(model.params[1])))\n",
    "\n",
    "# update the mean of \\beta|\\sigma, X, y\n",
    "mean_update = np.linalg.inv((np.transpose(xs_matrix) * xs_matrix) + 1) * (np.transpose(xs_matrix) * xs_matrix) * beta_ols\n",
    "\n",
    "# update the alpha and beta priors\n",
    "alpha_update = 1 + len(all_training_data_y) / 2\n",
    "beta_update = 1 + 0.5 * (np.transpose(y_matrix) * y_matrix - np.transpose(y_matrix) * xs_matrix * np.linalg.inv(np.transpose(xs_matrix) * xs_matrix + 1) * np.transpose(xs_matrix) * y_matrix)\n",
    "beta_update = beta_update.flat[0]\n",
    "\n",
    "# make a function to update variance of beta given sigma\n",
    "\n",
    "def beta_variance_update(sigma):\n",
    "    return (sigma)**2 * np.linalg.inv((np.transpose(xs_matrix) * xs_matrix) + 1)\n"
   ]
  },
  {
   "cell_type": "code",
   "execution_count": 110,
   "id": "1aade017-a8e0-458c-85fe-aecb3419709c",
   "metadata": {},
   "outputs": [
    {
     "data": {
      "image/png": "[encoded data removed]",
      "text/plain": [
       "<Figure size 640x480 with 1 Axes>"
      ]
     },
     "metadata": {},
     "output_type": "display_data"
    }
   ],
   "source": [
    "# graph of the prior (red) vs update (blue)\n",
    "temp_x = np.linspace(0.01, 100, 500)\n",
    "\n",
    "plt.plot(temp_x, scipy.stats.invgamma.pdf(temp_x, alpha_update, scale=beta_update), color=\"blue\")\n",
    "plt.plot(temp_x, scipy.stats.invgamma.pdf(temp_x, alpha, scale=beta), color=\"red\")\n",
    "\n",
    "plt.show()"
   ]
  },
  {
   "cell_type": "code",
   "execution_count": 111,
   "id": "573f0adb-c36e-48a1-b527-918ccc49364c",
   "metadata": {},
   "outputs": [],
   "source": [
    "# take many draws from this posterior distribution with updated parameters\n",
    "\n",
    "# define large N number of \"newly-drawn\" domains\n",
    "N = 1000\n",
    "\n",
    "G_draws = []\n",
    "outside_G_draws = []\n",
    "\n",
    "# inside G draws (for fitting)\n",
    "inverse_gamma_dist = scipy.stats.invgamma(alpha_update, scale=beta_update)\n",
    "sigma_draws = inverse_gamma_dist.rvs(size=N)\n",
    "\n",
    "for sigma_draw in sigma_draws:\n",
    "    beta_draw = np.random.normal(mean_update,beta_variance_update(sigma_draw))\n",
    "    beta_draw = beta_draw.flat[0]\n",
    "    G_draws.append([beta_draw,sigma_draw])\n",
    "\n",
    "# outside G draws\n",
    "inverse_gamma_dist = scipy.stats.invgamma(alpha_update, scale=beta_update)\n",
    "sigma_draws = inverse_gamma_dist.rvs(size=N)\n",
    "\n",
    "for sigma_draw in sigma_draws:\n",
    "    beta_draw = np.random.normal(mean_update,beta_variance_update(sigma_draw))\n",
    "    beta_draw = beta_draw.flat[0]\n",
    "    outside_G_draws.append([beta_draw,sigma_draw])\n",
    "\n"
   ]
  },
  {
   "cell_type": "code",
   "execution_count": 112,
   "id": "effe6bfd-f09a-4cf4-8f4d-020ce010da4f",
   "metadata": {},
   "outputs": [],
   "source": [
    "# for each \"newly-drawn\" domain, generate tons of data\n",
    "\n",
    "M = 100 # large number of training sample relaizations\n",
    "\n",
    "newly_drawn_xs = []\n",
    "newly_drawn_y = []\n",
    "\n",
    "\n",
    "# OLS e_values\n",
    "new_e_values = []\n",
    "for k in range(len(G_draws)):\n",
    "    xs_eb_temp = np.random.normal(0,1,M)\n",
    "    newly_drawn_xs.append(xs_eb_temp)\n",
    "    epsilons = np.random.normal(0,1,M)\n",
    "    y_eb_temp = G_draws[k][0] * xs_eb_temp + epsilons * G_draws[k][1]\n",
    "    xs_eb_temp = sm.add_constant(xs_eb_temp)\n",
    "    newly_drawn_y.append(y_eb_temp)\n",
    "    model = sm.OLS(y_eb_temp,xs_eb_temp).fit()\n",
    "    \n",
    "    outside_xs_eb_temp = np.random.normal(0,1,M)\n",
    "    outside_epsilons = np.random.normal(0,1,M)\n",
    "    outside_y_eb_temp = outside_G_draws[k][0] * outside_xs_eb_temp + outside_epsilons * outside_G_draws[k][1]\n",
    "    outside_xs_eb_temp = sm.add_constant(outside_xs_eb_temp)\n",
    "\n",
    "    predictions = model.predict(outside_xs_eb_temp)\n",
    "    temp_sum = 0\n",
    "    for k in range(len(predictions)):\n",
    "        temp_sum += (predictions[k] - outside_y_eb_temp[k])**2\n",
    "    new_e_values.append(temp_sum / len(outside_y_eb_temp))\n",
    "\n",
    "\n",
    "# Lasso e_values\n",
    "new_e_values_lasso = []\n",
    "for k in range(len(G_draws)):\n",
    "    xs_eb_temp = np.random.normal(0,1,M)\n",
    "    newly_drawn_xs.append(xs_eb_temp)\n",
    "    epsilons = np.random.normal(0,1,M)\n",
    "    y_eb_temp = G_draws[k][0] * xs_eb_temp + epsilons * G_draws[k][1]\n",
    "    lasso_cv = LassoCV(cv=5, random_state = 101)\n",
    "    temp_training_x = np.transpose([xs_eb_temp])\n",
    "    lasso_cv.fit(temp_training_x, y_eb_temp)\n",
    "    \n",
    "    xs_eb_temp = sm.add_constant(xs_eb_temp)\n",
    "    model = sm.OLS(y_eb_temp,xs_eb_temp).fit_regularized(alpha = lasso_cv.alpha_)\n",
    "    testing_sample_x = sm.add_constant(testing_sample_x)\n",
    "\n",
    "    newly_drawn_y.append(y_eb_temp)\n",
    "    \n",
    "    outside_xs_eb_temp = np.random.normal(0,1,M)\n",
    "    outside_epsilons = np.random.normal(0,1,M)\n",
    "    outside_y_eb_temp = outside_G_draws[k][0] * outside_xs_eb_temp + outside_epsilons * outside_G_draws[k][1]\n",
    "    outside_xs_eb_temp = sm.add_constant(outside_xs_eb_temp)\n",
    "    \n",
    "    predictions = model.predict(outside_xs_eb_temp)\n",
    "    temp_sum = 0\n",
    "    for k in range(len(predictions)):\n",
    "        temp_sum += (predictions[k] - outside_y_eb_temp[k])**2\n",
    "    new_e_values_lasso.append(temp_sum / len(outside_y_eb_temp))\n",
    "\n",
    "\n",
    "    "
   ]
  },
  {
   "cell_type": "code",
   "execution_count": 113,
   "id": "bd9b0d03-33eb-440c-bd98-09e356ecf3d8",
   "metadata": {},
   "outputs": [
    {
     "data": {
      "image/png": "[encoded data removed]",
      "text/plain": [
       "<Figure size 640x480 with 1 Axes>"
      ]
     },
     "metadata": {},
     "output_type": "display_data"
    }
   ],
   "source": [
    "# plot a histogram\n",
    "plt.hist(new_e_values, bins=30, color='skyblue', edgecolor='black')\n",
    "plt.show()"
   ]
  },
  {
   "cell_type": "code",
   "execution_count": 114,
   "id": "0ab1294d-4ab2-426e-83bd-3ffd4620fc39",
   "metadata": {},
   "outputs": [
    {
     "data": {
      "image/png": "[encoded data removed]",
      "text/plain": [
       "<Figure size 640x480 with 1 Axes>"
      ]
     },
     "metadata": {},
     "output_type": "display_data"
    }
   ],
   "source": [
    "plt.hist(new_e_values_lasso, bins=30, color=\"skyblue\",edgecolor=\"black\")\n",
    "plt.show()"
   ]
  },
  {
   "cell_type": "markdown",
   "id": "aa15eacb-04e7-440e-8314-c811d44bfa51",
   "metadata": {},
   "source": [
    "## Save all the plots"
   ]
  },
  {
   "cell_type": "code",
   "execution_count": null,
   "id": "065870a4-ff6d-41ce-b818-ce134a7b642a",
   "metadata": {},
   "outputs": [],
   "source": [
    "\n",
    "import matplotlib\n",
    "matplotlib.rcParams['mathtext.fontset'] = 'stix'\n",
    "matplotlib.rcParams['font.family'] = 'STIXGeneral'\n",
    "\n",
    "# plot a histogram for ED framework e_values\n",
    "plt.hist(e_values, bins=30, color='skyblue', edgecolor='black', density = True)\n",
    "plt.xlabel(\"$e_{\\mathcal{T},d}^\\mathbf{M}$\", fontsize = 17)\n",
    "plt.ylabel(\"$F_{\\mathbf{M}}$\", fontsize = 17)\n",
    "plt.show()\n",
    "plt.savefig(\"ed_evalues_ols.png\")\n"
   ]
  },
  {
   "cell_type": "code",
   "execution_count": null,
   "id": "12b5768c-48d7-4d71-a102-aaef62b8c3a2",
   "metadata": {},
   "outputs": [],
   "source": [
    "# plot a histogram for ED framework e_values\n",
    "plt.hist(e_values, bins=30, color='skyblue', edgecolor='black', density = True)\n",
    "plt.xlabel(\"$e_{\\mathcal{T},d}^\\mathbf{M}$\", fontsize = 17)\n",
    "plt.ylabel(\"$F_{\\mathbf{M}}$\", fontsize = 17)\n",
    "plt.show()\n",
    "plt.savefig(\"ed_evalues_lasso.png\")\n"
   ]
  },
  {
   "cell_type": "code",
   "execution_count": null,
   "id": "2e0b4bb7-8a6f-450d-a33c-8a62209a12d3",
   "metadata": {},
   "outputs": [],
   "source": [
    "# make confidence interval\n",
    "ci_upper = np.percentile(e_values, tau * 100)\n",
    "\n",
    "ci_lower = np.percentile(e_values, (1-tau) * 100)\n",
    "\n",
    "ci_upper_lasso = np.percentile(e_values_lasso, tau * 100)\n",
    "ci_lower_lasso = np.percentile(e_values_lasso, (1-tau) * 100)\n",
    "\n",
    "\n",
    "print([ci_lower,ci_upper])\n",
    "print([min(e_values),max(e_values)])\n",
    "\n",
    "print([ci_lower_lasso,ci_upper_lasso])\n",
    "\n",
    "\n",
    "# set up the figure\n",
    "fig = plt.figure()\n",
    "ax = fig.add_subplot(111)\n",
    "ax.set_xlim(0,10)\n",
    "ax.set_ylim(0,10)\n",
    "\n",
    "# draw first CI\n",
    "xmin = ci_lower\n",
    "xmax = ci_upper\n",
    "y_temp = 1\n",
    "height = 0.2\n",
    "\n",
    "plt.hlines(y_temp, xmin, xmax)\n",
    "plt.vlines(xmin, y_temp - height / 2., y_temp + height / 2.)\n",
    "plt.vlines(xmax, y_temp - height / 2., y_temp + height / 2.)\n",
    "\n",
    "# draw second CI\n",
    "xmin_2 = ci_lower_lasso\n",
    "xmax_2 = ci_upper_lasso\n",
    "y_temp_2 = 2\n",
    "height = 0.2\n",
    "\n",
    "plt.hlines(y_temp_2, xmin_2, xmax_2)\n",
    "plt.vlines(xmin_2, y_temp_2 - height / 2., y_temp_2 + height / 2.)\n",
    "plt.vlines(xmax_2, y_temp_2 - height / 2., y_temp_2 + height / 2.)\n",
    "\n",
    "\n",
    "# draw a point on the line\n",
    "#px = 4\n",
    "#plt.plot(px,y, 'ro', ms = 15, mfc = 'r')\n",
    "\n",
    "\n",
    "# add numbers\n",
    "plt.text(xmin - 0.1, y_temp, str(round(ci_lower,3)), horizontalalignment='right')\n",
    "plt.text(xmin - 0.3, y_temp, \"OLS\", horizontalalignment='right')\n",
    "\n",
    "plt.text(xmax + 0.1, y_temp, str(round(ci_upper,3)), horizontalalignment='left')\n",
    "\n",
    "plt.text(xmin_2 - 0.1, y_temp_2, str(round(ci_lower_lasso,3)), horizontalalignment='right')\n",
    "plt.text(xmin_2 - 0.3, y_temp_2, \"Lasso\", horizontalalignment='right')\n",
    "\n",
    "plt.text(xmax_2 + 0.1, y_temp_2, str(round(ci_upper_lasso,3)), horizontalalignment='left')\n",
    "\n",
    "plt.axis('off')\n",
    "plt.show()\n",
    "\n",
    "plt.savefig(\"ed_confidence_intervals.png\")"
   ]
  },
  {
   "cell_type": "code",
   "execution_count": null,
   "id": "fdd78a78-49f3-48a5-8cf3-ea1bb12f23ab",
   "metadata": {},
   "outputs": [],
   "source": [
    "# graph of the prior (red) vs update (blue)\n",
    "temp_x = np.linspace(0.01, 1, 500)\n",
    "\n",
    "plt.plot(temp_x, scipy.stats.invgamma.pdf(temp_x, alpha_update, scale=beta_update), color=\"blue\")\n",
    "plt.plot(temp_x, scipy.stats.invgamma.pdf(temp_x, alpha, scale=beta), color=\"red\")\n",
    "plt.show()\n",
    "\n",
    "plt.savefig(\"prior_update_sigma.png\")\n",
    "\n"
   ]
  },
  {
   "cell_type": "code",
   "execution_count": null,
   "id": "18d832e9-d0f6-408a-9383-ae7fe5ef6ad9",
   "metadata": {},
   "outputs": [],
   "source": [
    "# plot a histogram of EB e_values\n",
    "plt.hist(new_e_values, bins=30, color='skyblue', edgecolor='black', density = True)\n",
    "\n",
    "plt.xlabel(\"$e^B_{\\widehat{\\mathcal{G}}}$\", fontsize = 17)\n",
    "plt.ylabel(\"Density\", fontsize = 17)\n",
    "plt.show()\n",
    "\n",
    "plt.savefig(\"bayes_evalues_ols.png\")\n",
    "\n"
   ]
  },
  {
   "cell_type": "code",
   "execution_count": null,
   "id": "8dfe4ab5-4a77-4899-b305-c54364a8bf30",
   "metadata": {},
   "outputs": [],
   "source": [
    "# plot a histogram of EB e_values\n",
    "plt.hist(new_e_values_lasso, bins=30, color='skyblue', edgecolor='black', density = True)\n",
    "\n",
    "plt.xlabel(\"$e^B_{\\widehat{\\mathcal{G}}}$\", fontsize = 17)\n",
    "plt.ylabel(\"Density\", fontsize = 17)\n",
    "plt.show()\n",
    "\n",
    "plt.savefig(\"bayes_evalues_lasso.png\")\n"
   ]
  },
  {
   "cell_type": "code",
   "execution_count": 117,
   "id": "c9c8ad61-5e49-47d0-9e65-8ca6638aeda6",
   "metadata": {},
   "outputs": [
    {
     "data": {
      "image/png": "[encoded data removed]",
      "text/plain": [
       "<Figure size 640x480 with 1 Axes>"
      ]
     },
     "metadata": {},
     "output_type": "display_data"
    }
   ],
   "source": [
    "# make CI for EB framework\n",
    "\n",
    "# pick as default the middle 2 * tau - 1 level confidence interval\n",
    "bayes_ci_lower = sorted(new_e_values)[int(len(new_e_values) * (1-tau))]\n",
    "bayes_ci_upper = sorted(new_e_values)[int(len(new_e_values) * tau-1)]\n",
    "\n",
    "bayes_ci_lower_lasso = sorted(new_e_values_lasso)[int(len(new_e_values_lasso) * (1-tau))]\n",
    "bayes_ci_upper_lasso = sorted(new_e_values_lasso)[int(len(new_e_values_lasso) * tau-1)]\n",
    "\n",
    "# set up the figure\n",
    "fig = plt.figure()\n",
    "ax = fig.add_subplot(111)\n",
    "ax.set_xlim(0,10)\n",
    "ax.set_ylim(0,10)\n",
    "\n",
    "# draw first CI\n",
    "xmin = bayes_ci_lower\n",
    "xmax = bayes_ci_upper\n",
    "y_temp = 1\n",
    "height = 0.2\n",
    "\n",
    "plt.hlines(y_temp, xmin, xmax * 30)\n",
    "plt.vlines(xmin, y_temp - height / 2., y_temp + height / 2.)\n",
    "plt.vlines(xmax * 30, y_temp - height / 2., y_temp + height / 2.)\n",
    "\n",
    "# draw second CI\n",
    "xmin_2 = bayes_ci_lower_lasso\n",
    "xmax_2 = bayes_ci_upper_lasso\n",
    "y_temp_2 = 2\n",
    "height = 0.2\n",
    "\n",
    "plt.hlines(y_temp_2, xmin_2, xmax_2 * 30)\n",
    "plt.vlines(xmin_2, y_temp_2 - height / 2., y_temp_2 + height / 2.)\n",
    "plt.vlines(xmax_2 * 30, y_temp_2 - height / 2., y_temp_2 + height / 2.)\n",
    "\n",
    "\n",
    "# draw a point on the line\n",
    "#px = 4\n",
    "#plt.plot(px,y, 'ro', ms = 15, mfc = 'r')\n",
    "\n",
    "\n",
    "# add numbers\n",
    "plt.text(xmin - 0.1, y_temp, str(round(bayes_ci_lower,3)), horizontalalignment='right')\n",
    "plt.text(xmin - 1, y_temp, \"OLS\", horizontalalignment='right')\n",
    "\n",
    "plt.text(xmax * 30 + 0.1, y_temp, str(round(bayes_ci_upper,3)), horizontalalignment='left')\n",
    "\n",
    "plt.text(xmin_2 - 0.1, y_temp_2, str(round(bayes_ci_lower_lasso,3)), horizontalalignment='right')\n",
    "plt.text(xmin_2 - 1, y_temp_2, \"Lasso\", horizontalalignment='right')\n",
    "\n",
    "plt.text(xmax_2 * 30 + 0.1, y_temp_2, str(round(bayes_ci_upper_lasso,3)), horizontalalignment='left')\n",
    "\n",
    "\n",
    "\n",
    "plt.axis('off')\n",
    "plt.show()\n",
    "\n",
    "plt.savefig(\"bayes_confidence_intervals.png\")"
   ]
  },
  {
   "cell_type": "code",
   "execution_count": null,
   "id": "2b96f99b-f92c-414a-a84d-b5b757b6d3a3",
   "metadata": {},
   "outputs": [],
   "source": []
  },
  {
   "cell_type": "markdown",
   "id": "ec917a82-23c1-48a0-bf82-430caaaf398f",
   "metadata": {},
   "source": [
    "## Multivariate Normal\n",
    "Now extend to the model where\n",
    "\n",
    "$y = \\beta_d x + \\sigma_d \\epsilon,$\n",
    "\n",
    "$(x,\\epsilon) \\sim N(0,\\mathbb{I}_{D+1})$\n",
    "\n",
    "where $x \\in \\mathbb{R}^D$.\n",
    "\n",
    "Each domain has unique parameters $\\beta$ and $\\sigma$. To get as much data as we wish, these are generated from true meta-distribution of\n",
    "\n",
    "$\\beta|\\sigma \\sim N(0,\\sigma^2\\mathbb{I}_{D})$\n",
    "\n",
    "$\\sigma^2 \\sim InvGamma(\\alpha,\\beta)$\n",
    "\n",
    "For now, we set $\\alpha = \\beta = 1$.\n",
    "\n",
    "Furthermore, each sample domain has $m = 100$ observations in it."
   ]
  },
  {
   "cell_type": "markdown",
   "id": "3c2d4b89-8ff3-4acf-af49-3ac3f5d91167",
   "metadata": {},
   "source": [
    "#### Empirical Distribution Framework"
   ]
  },
  {
   "cell_type": "code",
   "execution_count": null,
   "id": "95163c6e-1bd4-466b-a89a-736f450cd612",
   "metadata": {},
   "outputs": [],
   "source": [
    "# set parameters\n",
    "n = 16\n",
    "r = 8\n",
    "alpha = 3\n",
    "beta = 1\n",
    "m = 100\n",
    "\n",
    "D = 10\n",
    "\n",
    "\n",
    "tau = 0.975\n"
   ]
  },
  {
   "cell_type": "code",
   "execution_count": null,
   "id": "d03407ae-3765-4c2c-856f-d586449b9279",
   "metadata": {},
   "outputs": [],
   "source": [
    "### generate parameters and data\n",
    "\n",
    "# generate n values of sigma_d\n",
    "inverse_gamma_dist = scipy.stats.invgamma(alpha, scale=beta)\n",
    "sigmas = inverse_gamma_dist.rvs(size=n)\n",
    "\n",
    "# generate n values of beta\n",
    "betas = []\n",
    "for sigma_d in sigmas:\n",
    "    betas.append(np.random.normal(0,sigma_d, D))\n",
    "\n",
    "# generate n values of x\n",
    "xs = []\n",
    "for k in range(n):\n",
    "    temp_list = []\n",
    "    \n",
    "    xs.append(np.random.normal(0,1,m))\n",
    "\n",
    "# generate n values of epsilon\n",
    "epsilons = []\n",
    "for k in range(n):\n",
    "    epsilons.append(np.random.normal(0,1,m))\n",
    "\n",
    "# generate a corresponding Y_i for each theta_i\n",
    "# y_i = beta_d * x_i + sigma_d * epsilon_i\n",
    "y = []\n",
    "for k in range(n):\n",
    "    y.append(betas[k] * xs[k] + sigmas[k] * epsilons[k])\n",
    "\n",
    "# generate list of possible indices combinations\n",
    "all_indices = list(range(n))\n",
    "\n",
    "possible_combinations_temp = list(itertools.combinations(all_indices, r))\n",
    "\n",
    "possible_combinations = []\n",
    "\n",
    "for temp_index in range(len(possible_combinations_temp)):\n",
    "    possible_combinations_temp[temp_index] = list(possible_combinations_temp[temp_index])\n",
    "    for x in all_indices:\n",
    "        if x not in possible_combinations_temp[temp_index]:\n",
    "            possible_combinations.append(possible_combinations_temp[temp_index] + [x])"
   ]
  },
  {
   "cell_type": "markdown",
   "id": "b3096353-f03a-4451-833e-57382a71a7d2",
   "metadata": {},
   "source": [
    "## Poisson Example\n",
    "\n",
    "Here, for $n=10$ and $r=5$ (final numbers TBD),\n",
    "\n",
    "$\\theta_i \\stackrel{i.i.d.}{\\sim} Gamma(2,2)$\n",
    "\n",
    "$Y_i|\\theta_i \\stackrel{i.i.d.}{\\sim} Poisson(\\theta_i)$"
   ]
  },
  {
   "cell_type": "code",
   "execution_count": 45,
   "id": "27adede5-07ce-4f57-9431-3ee36bec9c09",
   "metadata": {},
   "outputs": [],
   "source": [
    "# set base parameters\n",
    "n = 10\n",
    "alpha = 2\n",
    "beta = 2\n",
    "r = 5\n",
    "\n",
    "tau = 0.975\n"
   ]
  },
  {
   "cell_type": "code",
   "execution_count": 46,
   "id": "f6b44397-9f67-4d54-9224-e9b2a38616d7",
   "metadata": {},
   "outputs": [],
   "source": [
    "\n",
    "# generate n values of theta_i\n",
    "theta = []\n",
    "for k in range(n):\n",
    "    theta.append(np.random.gamma(shape=alpha,scale=beta))\n",
    "\n",
    "# generate a corresponding Y_i for each theta_i\n",
    "y = []\n",
    "for x in theta:\n",
    "    y.append(np.random.poisson(lam=x))\n",
    "\n",
    "# generate list of possible indices combinations\n",
    "all_indices = list(range(n))\n",
    "\n",
    "possible_combinations_temp = list(itertools.combinations(all_indices, r))\n",
    "\n",
    "possible_combinations = []\n",
    "\n",
    "for temp_index in range(len(possible_combinations_temp)):\n",
    "    possible_combinations_temp[temp_index] = list(possible_combinations_temp[temp_index])\n",
    "    for x in all_indices:\n",
    "        if x not in possible_combinations_temp[temp_index]:\n",
    "            possible_combinations.append(possible_combinations_temp[temp_index] + [x])"
   ]
  },
  {
   "cell_type": "code",
   "execution_count": 47,
   "id": "b219e3d7-8d54-4be7-8d8f-46b58d028a70",
   "metadata": {},
   "outputs": [],
   "source": [
    "# define the loss function\n",
    "def loss(x,y):\n",
    "    return (x-y)**2\n",
    "\n",
    "# define the theta_solver\n",
    "def theta_solver(possible_training_samples):\n",
    "    average_weight = 1/(len(possible_combinations) * len(possible_training_samples))\n",
    "    sum_of_y_values = 0\n",
    "    for s_d in possible_training_samples:\n",
    "        sum_of_y_values += s_d\n",
    "    return average_weight * sum_of_y_values\n",
    "\n",
    "# define error function\n",
    "def error_function(pred_rule,test_sample):\n",
    "    error_sum = (pred_rule - test_sample)**2\n",
    "    return (1/r) * error_sum\n",
    "\n",
    "# define out-of-sample error function\n",
    "def out_of_sample_error_function(possible_training_samples,testing_sample):\n",
    "    average_weight = 1/(len(testing_sample))\n",
    "    return average_weight * (error_function(theta_solver(possible_training_samples),testing_sample[0]) - error_function(testing_sample[0],testing_sample[0]))"
   ]
  },
  {
   "cell_type": "code",
   "execution_count": 48,
   "id": "ef4d85c1-151b-4984-ba5b-0589d52986e6",
   "metadata": {},
   "outputs": [],
   "source": [
    "### draw the actual combinations of training and testing samples and generate e_values\n",
    "e_values = []\n",
    "\n",
    "for x in possible_combinations:\n",
    "    # get training sample\n",
    "    training_indices = []\n",
    "    training_samples = []\n",
    "    for z in x:\n",
    "        training_indices.append(z)\n",
    "    # get testing sample\n",
    "    testing_index = training_indices[-1]\n",
    "    training_indices.pop()\n",
    "    \n",
    "    for z in training_indices:\n",
    "        training_samples.append(y[z])\n",
    "    testing_sample = []\n",
    "    testing_sample.append(y[testing_index])\n",
    "    e_values.append(out_of_sample_error_function(training_samples, testing_sample))"
   ]
  },
  {
   "cell_type": "code",
   "execution_count": 49,
   "id": "2b449e8a-d653-492c-9db5-5e1efc253818",
   "metadata": {},
   "outputs": [
    {
     "name": "stdout",
     "output_type": "stream",
     "text": [
      "[np.float64(2.665658856135047e-06), np.float64(24.1881284404132)]\n",
      "[9.876543209876544e-07, 24.193714693877553]\n"
     ]
    },
    {
     "data": {
      "image/png": "[encoded data removed]",
      "text/plain": [
       "<Figure size 640x480 with 1 Axes>"
      ]
     },
     "metadata": {},
     "output_type": "display_data"
    }
   ],
   "source": [
    "ci_upper = np.percentile(e_values, tau * 100)\n",
    "\n",
    "ci_lower = np.percentile(e_values, (1-tau) * 100)\n",
    "\n",
    "print([ci_lower,ci_upper])\n",
    "print([min(e_values),max(e_values)])\n",
    "\n",
    "\n",
    "# set up the figure\n",
    "fig = plt.figure()\n",
    "ax = fig.add_subplot(111)\n",
    "ax.set_xlim(0,10)\n",
    "ax.set_ylim(0,10)\n",
    "\n",
    "# draw lines\n",
    "xmin = 1\n",
    "xmax = 9\n",
    "y_temp = 5\n",
    "height = 1\n",
    "\n",
    "plt.hlines(y_temp, xmin, xmax)\n",
    "plt.vlines(xmin, y_temp - height / 2., y_temp + height / 2.)\n",
    "plt.vlines(xmax, y_temp - height / 2., y_temp + height / 2.)\n",
    "\n",
    "# draw a point on the line\n",
    "#px = 4\n",
    "#plt.plot(px,y, 'ro', ms = 15, mfc = 'r')\n",
    "\n",
    "\n",
    "# add numbers\n",
    "plt.text(xmin - 0.1, y_temp, str(round(ci_lower,3)), horizontalalignment='right')\n",
    "plt.text(xmax + 0.1, y_temp, str(round(ci_upper,3)), horizontalalignment='left')\n",
    "\n",
    "plt.axis('off')\n",
    "plt.show()\n",
    "\n"
   ]
  },
  {
   "cell_type": "code",
   "execution_count": 50,
   "id": "fc82ac6d-e533-4cdb-beef-64baadd6d6da",
   "metadata": {
    "scrolled": true
   },
   "outputs": [
    {
     "data": {
      "image/png": "[encoded data removed]",
      "text/plain": [
       "<Figure size 640x480 with 1 Axes>"
      ]
     },
     "metadata": {},
     "output_type": "display_data"
    }
   ],
   "source": [
    "plt.hist(e_values, bins=100, color='skyblue', edgecolor='black')\n",
    "plt.show()"
   ]
  },
  {
   "cell_type": "code",
   "execution_count": 51,
   "id": "a39e2c98-4d3b-4f3d-8074-122a4514c7bf",
   "metadata": {
    "scrolled": true
   },
   "outputs": [
    {
     "data": {
      "image/png": "[encoded data removed]",
      "text/plain": [
       "<Figure size 640x480 with 1 Axes>"
      ]
     },
     "metadata": {},
     "output_type": "display_data"
    }
   ],
   "source": [
    "plt.hist(y,bins=30)\n",
    "plt.show()"
   ]
  },
  {
   "cell_type": "code",
   "execution_count": 52,
   "id": "c74fab57-c53a-407a-a77c-c55cd7934d10",
   "metadata": {},
   "outputs": [
    {
     "ename": "KeyboardInterrupt",
     "evalue": "",
     "output_type": "error",
     "traceback": [
      "\u001b[1;31m---------------------------------------------------------------------------\u001b[0m",
      "\u001b[1;31mKeyboardInterrupt\u001b[0m                         Traceback (most recent call last)",
      "Cell \u001b[1;32mIn[52], line 31\u001b[0m\n\u001b[0;32m     29\u001b[0m     \u001b[38;5;28;01mfor\u001b[39;00m x \u001b[38;5;129;01min\u001b[39;00m all_indices:\n\u001b[0;32m     30\u001b[0m         \u001b[38;5;28;01mif\u001b[39;00m x \u001b[38;5;129;01mnot\u001b[39;00m \u001b[38;5;129;01min\u001b[39;00m possible_combinations_temp[temp_index]:\n\u001b[1;32m---> 31\u001b[0m             possible_combinations\u001b[38;5;241m.\u001b[39mappend(possible_combinations_temp[temp_index] \u001b[38;5;241m+\u001b[39m [x])\n\u001b[0;32m     33\u001b[0m \u001b[38;5;66;03m### draw the actual combinations of training and testing samples and generate e_values\u001b[39;00m\n\u001b[0;32m     34\u001b[0m e_values \u001b[38;5;241m=\u001b[39m []\n",
      "\u001b[1;31mKeyboardInterrupt\u001b[0m: "
     ]
    }
   ],
   "source": [
    "max_times = []\n",
    "\n",
    "for n in range(2,22):\n",
    "# computational times to get all combinations    \n",
    "    times = []\n",
    "    \n",
    "    for r_temp in range(1,n):\n",
    "        # generate n values of theta_i\n",
    "        theta = []\n",
    "        for k in range(n):\n",
    "            theta.append(np.random.gamma(shape=alpha,scale=beta))\n",
    "        \n",
    "        # generate a corresponding Y_i for each theta_i\n",
    "        y = []\n",
    "        for x in theta:\n",
    "            y.append(np.random.poisson(lam=x))\n",
    "    \n",
    "        start_time = time.time()\n",
    "        \n",
    "        # generate list of possible indices combinations\n",
    "        all_indices = list(range(n))\n",
    "        \n",
    "        possible_combinations_temp = list(itertools.combinations(all_indices, r_temp))\n",
    "        \n",
    "        possible_combinations = []\n",
    "        \n",
    "        for temp_index in range(len(possible_combinations_temp)):\n",
    "            possible_combinations_temp[temp_index] = list(possible_combinations_temp[temp_index])\n",
    "            for x in all_indices:\n",
    "                if x not in possible_combinations_temp[temp_index]:\n",
    "                    possible_combinations.append(possible_combinations_temp[temp_index] + [x])\n",
    "    \n",
    "        ### draw the actual combinations of training and testing samples and generate e_values\n",
    "        e_values = []\n",
    "        \n",
    "        for x in possible_combinations:\n",
    "            # get training sample\n",
    "            training_indices = []\n",
    "            training_samples = []\n",
    "            for z in x:\n",
    "                training_indices.append(z)\n",
    "            # get testing sample\n",
    "            testing_index = training_indices[-1]\n",
    "            training_indices.pop()\n",
    "            \n",
    "            for z in training_indices:\n",
    "                training_samples.append(y[z])\n",
    "            testing_sample = []\n",
    "            testing_sample.append(y[testing_index])\n",
    "            e_values.append(out_of_sample_error_function(training_samples, testing_sample))\n",
    "        \n",
    "        times.append(time.time() - start_time)\n",
    "    max_times.append(max(times))\n"
   ]
  },
  {
   "cell_type": "code",
   "execution_count": 6,
   "id": "147f2778-6578-4a34-a542-ab09cb9defd7",
   "metadata": {},
   "outputs": [
    {
     "data": {
      "image/png": "[encoded data removed]",
      "text/plain": [
       "<Figure size 640x480 with 1 Axes>"
      ]
     },
     "metadata": {},
     "output_type": "display_data"
    }
   ],
   "source": [
    "plt.plot(range(2,22),max_times)\n",
    "\n",
    "plt.show()"
   ]
  }
 ],
 "metadata": {
  "kernelspec": {
   "display_name": "Python 3 (ipykernel)",
   "language": "python",
   "name": "python3"
  },
  "language_info": {
   "codemirror_mode": {
    "name": "ipython",
    "version": 3
   },
   "file_extension": ".py",
   "mimetype": "text/x-python",
   "name": "python",
   "nbconvert_exporter": "python",
   "pygments_lexer": "ipython3",
   "version": "3.12.5"
  }
 },
 "nbformat": 4,
 "nbformat_minor": 5
}
