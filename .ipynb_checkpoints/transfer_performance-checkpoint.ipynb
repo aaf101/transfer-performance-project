{
 "cells": [
  {
   "cell_type": "code",
   "execution_count": 170,
   "id": "cd0b31f9-93b7-4ab7-ad4a-7bf4e7bd9726",
   "metadata": {},
   "outputs": [],
   "source": [
    "# import required packages\n",
    "import numpy as np\n",
    "import matplotlib.pyplot as plt\n",
    "import random\n",
    "import math\n",
    "import pandas as pd\n",
    "from sklearn.ensemble import RandomForestRegressor\n",
    "from sklearn.preprocessing import LabelEncoder\n",
    "\n",
    "\n",
    "# fix a random seed\n",
    "random.seed(101)"
   ]
  },
  {
   "cell_type": "markdown",
   "id": "787fda06-836a-44c4-8722-ca7542339b2f",
   "metadata": {},
   "source": [
    "# Define the parameters\n",
    "\n",
    "We first have to define $\\theta = \\{\\theta_1,...,\\theta_D\\}$ where we set $D = 20$ and $\\theta = \\{\\frac{1}{10},...,\\frac{20}{10}\\}$.\n",
    "\n",
    "Furthermore, we define the similarity function here:\n",
    "\n",
    "$s(d,d_0,\\theta) = \\frac{(||\\theta_d - \\theta_{d_0}||^2)^{-1}}{\\sum_{d \\in \\{1,...,D\\}, d \\neq d_0}(||\\theta_d - \\theta_{d_0}||^2)^{-1}}$"
   ]
  },
  {
   "cell_type": "code",
   "execution_count": 171,
   "id": "218d6625-c863-411e-b486-72eb57d22a83",
   "metadata": {},
   "outputs": [],
   "source": [
    "# define parameters, i.e., the theta's\n",
    "theta = []\n",
    "for k in range(1,21):\n",
    "    theta.append(k/10)\n",
    "\n",
    "D = len(theta)\n",
    "\n",
    "\n",
    "# define the similarity function\n",
    "def s(d,d_0,theta):\n",
    "    # d is the index of the new theta value\n",
    "    # d_0 is the index of the original theta value\n",
    "    # theta is an array of the parameters\n",
    "    \n",
    "    # if d = d_0, return a very large number\n",
    "    if d==d_0:\n",
    "        return 1000000\n",
    "\n",
    "    D = len(theta)\n",
    "    temp_sum = 0\n",
    "    for x in range(1,D+1):\n",
    "        if x != d_0 & theta[x-1] != theta[d_0-1]:\n",
    "            temp_sum += 1.0/(theta[x-1] - theta[d_0-1])**2\n",
    "    return (1.0/(theta[d-1]-theta[d_0-1])**2)/temp_sum\n",
    "\n"
   ]
  },
  {
   "cell_type": "markdown",
   "id": "19d3cf1a-a512-44d6-a54c-52295df6970d",
   "metadata": {},
   "source": [
    "## Fix Lottery Choices\n",
    "Each lottery $L_{d,l_d}$ will consist of three components $L_{d,l_d} \\equiv (z_1,z_2,p)$ where $z_1$ refers to the payoff of outcome 1, $z_2$ is the payoff of outcome 2, and $p$ is the probability of outcome 1 occurring (else outcome 2 occurs). We restrict $z_i$'s to all be positive. The lotteries are different in each domain and there is a (potentially) different number, all of which is randomly drawn.\n",
    "\n",
    "$l_d \\stackrel{i.i.d.}{\\sim} 1 + Poisson(20)$\n",
    "$\\mathcal{L} \\equiv \\{L_{1,1},...,L_{1,l_1},L_{2,1},...,L_{D,l_D}\\}$"
   ]
  },
  {
   "cell_type": "code",
   "execution_count": 172,
   "id": "ec08a25b-7268-4724-9302-39006b8a0ecb",
   "metadata": {},
   "outputs": [],
   "source": [
    "# generate some lottery choices to be exposed to\n",
    "\n",
    "# number of desired lotteries\n",
    "lotteries = []\n",
    "for k in range(D):\n",
    "    L = 1 + np.random.poisson(20)\n",
    "    \n",
    "    lotteries_temp = []\n",
    "    \n",
    "    for i in range(L):\n",
    "        # generate z_1\n",
    "        z_1 = np.random.randint(150,250)\n",
    "    \n",
    "        # generate z_2\n",
    "        z_2 = np.random.randint(50,200)\n",
    "    \n",
    "        # generate p\n",
    "        p = random.random()\n",
    "    \n",
    "        lotteries_temp.append([z_1,z_2,p])\n",
    "\n",
    "    lotteries.append(lotteries_temp)\n",
    "        "
   ]
  },
  {
   "cell_type": "markdown",
   "id": "e5223b88-c8f9-4226-b9d1-e281870cb472",
   "metadata": {},
   "source": [
    "# CRRA Utility Definition\n",
    "Define the CRRA utility function and its inverse, which can be obtained once we assume all outcomes of lotteries will always be positive.\n",
    "\n",
    "The utility function is parametrized by $\\eta$ where $\\eta \\geq 0$. If $\\eta \\neq 1$, then (recalling that all $z_i \\geq 0$):\n",
    "\n",
    "$v_\\eta(z) = \\frac{z^{1-\\eta}-1}{1-\\eta}$\n",
    "\n",
    "Else if $\\eta = 1$, then:\n",
    "\n",
    "$v_\\eta(z) = ln(z)$\n",
    "\n",
    "Using this, we can then find the inverse functions. If $\\eta \\neq 1$, then\n",
    "\n",
    "$v_\\eta^{-1}(u) = (u(1-\\eta) + 1)^{\\frac{1}{1-\\eta}}$\n",
    "\n",
    "If $\\eta = 1$, then\n",
    "\n",
    "$v_\\eta^{-1}(u) = e^u$"
   ]
  },
  {
   "cell_type": "code",
   "execution_count": 173,
   "id": "cd977561-fa9e-4af7-bbde-15455312be3f",
   "metadata": {},
   "outputs": [],
   "source": [
    "# define the CRRA utility function\n",
    "def crra_utility(z,eta):\n",
    "    # eta is the utility preference\n",
    "    # z is the number\n",
    "    if eta < 0:\n",
    "        raise ValueError(\"eta is negative, which is not allowed\")\n",
    "    if eta != 1:\n",
    "        if z >=0:\n",
    "            return (z**(1-eta)-1)/(1-eta)\n",
    "        else:\n",
    "            return -((-z)**(1-eta)-1)/(1-eta)\n",
    "    else:\n",
    "        if z > 0:\n",
    "            return math.log(z)\n",
    "        elif z < 0:\n",
    "            return -math.log(-z)\n",
    "        else:\n",
    "            raise ValueError(\"z cannot be negative if eta equals 1\")\n",
    "\n",
    "def inverse_crra_utility(utility,eta):\n",
    "    if eta < 0:\n",
    "        raise ValueError(\"eta is negative, which is not allowed\")\n",
    "    if eta != 1:\n",
    "        return (utility*(1-eta)+1)**(1/(1-eta))\n",
    "    else:\n",
    "        return math.e**(utility)"
   ]
  },
  {
   "cell_type": "markdown",
   "id": "8104fda6-1513-4a7b-b8fe-bdc6065bd6ac",
   "metadata": {},
   "source": [
    "We want to draw both the number of people and then the preference parameter for each individual. With these, people then have certainty equivalents for each lottery according to the rule:\n",
    "$CE = v_{\\eta_{d}}^{-1}\\left(p \\cdot v_{\\eta_{d}}(z_1) + (1-p) \\cdot v_{\\eta_{d}}(z_2)\\right) + \\epsilon$ where $\\epsilon \\sim N(0,\\sigma^2)$"
   ]
  },
  {
   "cell_type": "markdown",
   "id": "80096f5e-7858-4bb3-8f79-a9fb6eb1a716",
   "metadata": {},
   "source": [
    "# Simulate the Consumers\n",
    "\n",
    "We draw the number of samples in each domain according to $N_d \\stackrel{i.i.d}{\\sim} 1 + Poisson(50)$. Preferences are assumed to be given by $\\theta_d$ for each consumer, and random noise $N(0,\\sigma^2)$ where $\\sigma= 4$ is added."
   ]
  },
  {
   "cell_type": "code",
   "execution_count": 174,
   "id": "e7605a8b-7630-49ba-903f-0b5d4a507fed",
   "metadata": {},
   "outputs": [],
   "source": [
    "# simulate the number of people\n",
    "\n",
    "# let N denote the sample size of each domain\n",
    "N = 1 + np.random.poisson(lam=10.0, size=D)\n",
    "\n",
    "# simulate the preferences of each person in the domain\n",
    "sigma = 4.0\n",
    "\n",
    "# simulate the choices, which will be in an array first separated by domain, then by person, listing their given certainty equivalents\n",
    "data = []\n",
    "for d in range(D):\n",
    "    domain_data = []\n",
    "    for lottery in lotteries[d]:\n",
    "        lottery_vector = []\n",
    "        for j in range(N[d]):\n",
    "            certainty_equivalent = inverse_crra_utility(lottery[2] * crra_utility(lottery[0],theta[d]) + (1-lottery[2]) * crra_utility(lottery[1],theta[d]),theta[d])\n",
    "            # add the error\n",
    "            certainty_equivalent += np.random.normal(loc=0.0, scale=sigma)\n",
    "            lottery_vector.append(certainty_equivalent)\n",
    "        domain_data.append(lottery_vector)\n",
    "    data.append(domain_data)"
   ]
  },
  {
   "cell_type": "markdown",
   "id": "f9d04e45-4fca-47c2-832e-9056cf9816b6",
   "metadata": {},
   "source": [
    "Note: the data is in the form of $[[[choices]_{lottery=1},...,[choices]_{lottery=L_1}]_{d=1},...,[[choices]_{lottery=1},...,[choices]_{lottery=L_D}]_{d=D}]$"
   ]
  },
  {
   "cell_type": "markdown",
   "id": "0132641f-6f9f-44c1-a41f-a751352102cd",
   "metadata": {},
   "source": [
    "# Random Forest fitting"
   ]
  },
  {
   "cell_type": "code",
   "execution_count": 240,
   "id": "5c40e01a-5432-441a-82ee-e3b3d79ef4e0",
   "metadata": {},
   "outputs": [],
   "source": [
    "# convert to pd dataframe\n",
    "df = pd.DataFrame(data)\n",
    "\n",
    "# transpose so domains are each of the columns\n",
    "df = df.transpose()\n",
    "\n",
    "# transform so single domain column exists\n",
    "df = pd.melt(df)\n",
    "\n",
    "# rename columns\n",
    "df.columns = ['domain','lottery_ce']\n",
    "\n",
    "df.insert(0,'lottery',range(0,len(df)))\n",
    "\n",
    "for d in range(D):\n",
    "    df['lottery'] = df.apply(lambda row: row.lottery - len(df.loc[df['domain'] == d]) if row.domain > d else row.lottery, axis=1)\n",
    "\n",
    "df = df.dropna(subset=['lottery_ce'])\n",
    "\n",
    "df = df.explode('lottery_ce')\n",
    "\n",
    "# link the lottery data to each row:\n",
    "df['z_1'] = df.apply(lambda row: lotteries[row.domain][row.lottery][0], axis=1)\n",
    "df['z_2'] = df.apply(lambda row: lotteries[row.domain][row.lottery][1], axis=1)\n",
    "df['p'] = df.apply(lambda row: lotteries[row.domain][row.lottery][2], axis=1)\n"
   ]
  },
  {
   "cell_type": "code",
   "execution_count": 241,
   "id": "09a1cb39-0e12-4d92-889a-e80f1cb0f3a0",
   "metadata": {},
   "outputs": [
    {
     "data": {
      "text/html": [
       "<div>\n",
       "<style scoped>\n",
       "    .dataframe tbody tr th:only-of-type {\n",
       "        vertical-align: middle;\n",
       "    }\n",
       "\n",
       "    .dataframe tbody tr th {\n",
       "        vertical-align: top;\n",
       "    }\n",
       "\n",
       "    .dataframe thead th {\n",
       "        text-align: right;\n",
       "    }\n",
       "</style>\n",
       "<table border=\"1\" class=\"dataframe\">\n",
       "  <thead>\n",
       "    <tr style=\"text-align: right;\">\n",
       "      <th></th>\n",
       "      <th>lottery</th>\n",
       "      <th>domain</th>\n",
       "      <th>lottery_ce</th>\n",
       "      <th>z_1</th>\n",
       "      <th>z_2</th>\n",
       "      <th>p</th>\n",
       "    </tr>\n",
       "  </thead>\n",
       "  <tbody>\n",
       "    <tr>\n",
       "      <th>0</th>\n",
       "      <td>0</td>\n",
       "      <td>0</td>\n",
       "      <td>191.568621</td>\n",
       "      <td>227</td>\n",
       "      <td>157</td>\n",
       "      <td>0.581152</td>\n",
       "    </tr>\n",
       "    <tr>\n",
       "      <th>0</th>\n",
       "      <td>0</td>\n",
       "      <td>0</td>\n",
       "      <td>204.039407</td>\n",
       "      <td>227</td>\n",
       "      <td>157</td>\n",
       "      <td>0.581152</td>\n",
       "    </tr>\n",
       "    <tr>\n",
       "      <th>0</th>\n",
       "      <td>0</td>\n",
       "      <td>0</td>\n",
       "      <td>197.531092</td>\n",
       "      <td>227</td>\n",
       "      <td>157</td>\n",
       "      <td>0.581152</td>\n",
       "    </tr>\n",
       "    <tr>\n",
       "      <th>0</th>\n",
       "      <td>0</td>\n",
       "      <td>0</td>\n",
       "      <td>197.409538</td>\n",
       "      <td>227</td>\n",
       "      <td>157</td>\n",
       "      <td>0.581152</td>\n",
       "    </tr>\n",
       "    <tr>\n",
       "      <th>0</th>\n",
       "      <td>0</td>\n",
       "      <td>0</td>\n",
       "      <td>197.390115</td>\n",
       "      <td>227</td>\n",
       "      <td>157</td>\n",
       "      <td>0.581152</td>\n",
       "    </tr>\n",
       "  </tbody>\n",
       "</table>\n",
       "</div>"
      ],
      "text/plain": [
       "   lottery  domain  lottery_ce  z_1  z_2         p\n",
       "0        0       0  191.568621  227  157  0.581152\n",
       "0        0       0  204.039407  227  157  0.581152\n",
       "0        0       0  197.531092  227  157  0.581152\n",
       "0        0       0  197.409538  227  157  0.581152\n",
       "0        0       0  197.390115  227  157  0.581152"
      ]
     },
     "execution_count": 241,
     "metadata": {},
     "output_type": "execute_result"
    }
   ],
   "source": [
    "df.head()\n"
   ]
  },
  {
   "cell_type": "code",
   "execution_count": 234,
   "id": "bfa2a1e0-76e3-4d58-ace2-688aad27c475",
   "metadata": {},
   "outputs": [
    {
     "name": "stdout",
     "output_type": "stream",
     "text": [
      "[[227, 157, 0.5811521325045647], [249, 92, 0.1947544955341367], [165, 186, 0.9652511070611112], [170, 97, 0.9239764016767943], [211, 112, 0.46713867819697397], [195, 151, 0.6634706445300605], [179, 92, 0.21452296973796803], [157, 163, 0.22169624952624067], [155, 62, 0.28852243338125616], [233, 196, 0.6924227459953175], [211, 54, 0.21237676835833108], [198, 169, 0.9711059513537736], [168, 100, 0.07035548430116423], [232, 74, 0.19328662873109104], [205, 68, 0.08886356983491583], [188, 145, 0.7698919366101026], [156, 106, 0.36651497477003436], [248, 142, 0.4716822638085333], [229, 113, 0.3260282668383443], [246, 173, 0.6374269186794383], [174, 135, 0.4038943307273243], [162, 166, 0.20826770412101558], [175, 51, 0.43015403648999195], [249, 82, 0.3042898119371217]]\n"
     ]
    }
   ],
   "source": [
    "print(lotteries[0])"
   ]
  },
  {
   "cell_type": "markdown",
   "id": "536d31a3-b8b5-4994-b754-f3bbed5ca8ca",
   "metadata": {},
   "source": [
    "Note that the rows in the data frame are the domains, and the columns refer to each lottery. Within each of them, then, is a list of outcomes."
   ]
  },
  {
   "cell_type": "code",
   "execution_count": null,
   "id": "9d7e6e53-e1c0-4a2d-852b-75a0ddc834f5",
   "metadata": {},
   "outputs": [],
   "source": [
    "# do the regression:\n",
    "# Fitting Random Forest Regression to the dataset\n",
    "regressor = RandomForestRegressor(n_estimators=10, random_state=0, oob_score=True)\n",
    "\n",
    "# Fit the regressor with x and y data\n",
    "regressor.fit(x, y)"
   ]
  }
 ],
 "metadata": {
  "kernelspec": {
   "display_name": "Python 3 (ipykernel)",
   "language": "python",
   "name": "python3"
  },
  "language_info": {
   "codemirror_mode": {
    "name": "ipython",
    "version": 3
   },
   "file_extension": ".py",
   "mimetype": "text/x-python",
   "name": "python",
   "nbconvert_exporter": "python",
   "pygments_lexer": "ipython3",
   "version": "3.12.5"
  }
 },
 "nbformat": 4,
 "nbformat_minor": 5
}
